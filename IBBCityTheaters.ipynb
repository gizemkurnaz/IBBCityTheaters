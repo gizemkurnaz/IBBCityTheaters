{
 "cells": [
  {
   "cell_type": "markdown",
   "id": "8d72f9fa",
   "metadata": {},
   "source": [
    "# CENG 3516 STATISTICAL COMPUTING FINAL PROJECT"
   ]
  },
  {
   "cell_type": "markdown",
   "id": "3f183dc4",
   "metadata": {},
   "source": [
    "## Gizem Kurnaz -  170709059"
   ]
  },
  {
   "cell_type": "markdown",
   "id": "0cd4474b",
   "metadata": {},
   "source": [
    "### Topic : IBB City Theaters"
   ]
  },
  {
   "cell_type": "markdown",
   "id": "33890dd9",
   "metadata": {},
   "source": [
    "### Abstarct:\n",
    " My aim in this project was to measure the interest felt by people according to the type and category of the play in the theater plays in Istanbul. Therefore, I examined and anaysed three dataset of IBB and made inferences."
   ]
  },
  {
   "cell_type": "markdown",
   "id": "fc554b62",
   "metadata": {},
   "source": [
    "### Dataset:\n",
    "I used 3 datasets in this project. These datasets are about the theaters in Istanbul and the plays in those theaters. I used the number of audiences as numeric data in the first dataset, the number of plays in the second dataset, and the occupancy rate of the theater in the third dataset.\n",
    "\n",
    "1-) https://data.ibb.gov.tr/dataset/sehir-tiyatrolari-veri-seti/resource/79465ce9-8755-4b57-8e6c-def0c0caadc8\n",
    "\n",
    "2-) https://data.ibb.gov.tr/dataset/2017-2019-ibb-sehir-tiyatrolari-oynanan-oyun-sayilari/resource/311f8744-8c9c-4f11-ad80-cfe59f761689\n",
    "\n",
    "3-) https://data.ibb.gov.tr/dataset/ibb-sehir-tiyatrolarinda-sergilen-oyunlar/resource/94a0b292-b5f5-454a-b91e-da6000b528fc"
   ]
  },
  {
   "cell_type": "markdown",
   "id": "430309e0",
   "metadata": {},
   "source": [
    "### Importing Libraries"
   ]
  },
  {
   "cell_type": "code",
   "execution_count": 204,
   "id": "be16ee2f",
   "metadata": {},
   "outputs": [],
   "source": [
    "library(ggplot2)\n",
    "library(MASS)\n",
    "library(plyr)\n",
    "library(nortest)\n",
    "library(\"dplyr\")"
   ]
  },
  {
   "cell_type": "markdown",
   "id": "5c2775cb",
   "metadata": {},
   "source": [
    "### Loading Data"
   ]
  },
  {
   "cell_type": "code",
   "execution_count": 208,
   "id": "2b022132",
   "metadata": {},
   "outputs": [],
   "source": [
    "df <- read.csv('theater_play.csv', fileEncoding=\"UTF-8-BOM\")\n",
    "df2 <- read.csv('yl-baznda-oyun-says.csv', fileEncoding=\"UTF-8-BOM\")\n",
    "df3 <- read.csv('2018-2020-oyun-bazli-izleyici-sayisi-seans-sayisi-ve-doluluk-orani.csv', fileEncoding=\"UTF-8-BOM\")"
   ]
  },
  {
   "cell_type": "markdown",
   "id": "b08e21df",
   "metadata": {},
   "source": [
    "### Part 1 (First Dataset )"
   ]
  },
  {
   "cell_type": "markdown",
   "id": "1f5d3b32",
   "metadata": {},
   "source": [
    "### Data Exploration & Preprocessing"
   ]
  },
  {
   "cell_type": "code",
   "execution_count": 209,
   "id": "403e20a2",
   "metadata": {},
   "outputs": [
    {
     "data": {
      "text/html": [
       "<table>\n",
       "<thead><tr><th scope=col>PLAY_DATE</th><th scope=col>PLAY_NAME</th><th scope=col>THEATER_NAME</th><th scope=col>PLAY_CATEGORY</th><th scope=col>IS_GUEST_PLAY</th><th scope=col>PLAY_TYPE</th><th scope=col>LONGITUDE</th><th scope=col>LATITUDE</th><th scope=col>NUMBER_OF_AUDIENCE</th></tr></thead>\n",
       "<tbody>\n",
       "\t<tr><td>2017-12-27                                        </td><td>KARAGÖZ' ÜN UYKUSU                                </td><td>Gaziosmanpaşa Ferih Egemen Çocuk Tiyatrosu Sahnesi</td><td>Çocuk                                             </td><td>0                                                 </td><td>Yerli                                             </td><td>28.91648                                          </td><td>41.05785                                          </td><td> 50                                               </td></tr>\n",
       "\t<tr><td>2019-03-28                                        </td><td>ŞAHANE ZÜĞÜRTLER                                  </td><td>Kadıköy Haldun Taner Sahnesi                      </td><td>Yetişkin                                          </td><td>0                                                 </td><td>Yabancı                                           </td><td>29.02341                                          </td><td>40.99177                                          </td><td>  1                                               </td></tr>\n",
       "\t<tr><td>2017-11-30                                        </td><td>BAK BİZİM ŞARKIMIZI ÇALIYORLAR                    </td><td>Kağıthane Sadabad Sahnesi                         </td><td>Müzikal                                           </td><td>0                                                 </td><td>Yabancı                                           </td><td>28.97097                                          </td><td>41.07937                                          </td><td> 84                                               </td></tr>\n",
       "\t<tr><td>2020-01-24                                        </td><td>ÇIN SABAHTA                                       </td><td>Gaziosmanpaşa Sahnesi                             </td><td>Yetişkin                                          </td><td>0                                                 </td><td>Yerli                                             </td><td>28.91648                                          </td><td>41.05785                                          </td><td> 46                                               </td></tr>\n",
       "\t<tr><td>2019-01-27                                        </td><td>POLLYANNA                                         </td><td>Kağıthane Sadabad Sahnesi                         </td><td>Çocuk                                             </td><td>0                                                 </td><td>Yabancı                                           </td><td>28.97097                                          </td><td>41.07937                                          </td><td>150                                               </td></tr>\n",
       "\t<tr><td>2018-11-25                                        </td><td>BENİM GÜZEL PABUÇLARIM                            </td><td>Kağıthane Sadabad Sahnesi                         </td><td>Çocuk                                             </td><td>0                                                 </td><td>Yerli                                             </td><td>28.97097                                          </td><td>41.07937                                          </td><td>127                                               </td></tr>\n",
       "</tbody>\n",
       "</table>\n"
      ],
      "text/latex": [
       "\\begin{tabular}{r|lllllllll}\n",
       " PLAY\\_DATE & PLAY\\_NAME & THEATER\\_NAME & PLAY\\_CATEGORY & IS\\_GUEST\\_PLAY & PLAY\\_TYPE & LONGITUDE & LATITUDE & NUMBER\\_OF\\_AUDIENCE\\\\\n",
       "\\hline\n",
       "\t 2017-12-27                                         & KARAGÖZ' ÜN UYKUSU                                 & Gaziosmanpaşa Ferih Egemen Çocuk Tiyatrosu Sahnesi & Çocuk                                              & 0                                                  & Yerli                                              & 28.91648                                           & 41.05785                                           &  50                                               \\\\\n",
       "\t 2019-03-28                                         & ŞAHANE ZÜĞÜRTLER                                   & Kadıköy Haldun Taner Sahnesi                       & Yetişkin                                           & 0                                                  & Yabancı                                            & 29.02341                                           & 40.99177                                           &   1                                               \\\\\n",
       "\t 2017-11-30                                         & BAK BİZİM ŞARKIMIZI ÇALIYORLAR                     & Kağıthane Sadabad Sahnesi                          & Müzikal                                            & 0                                                  & Yabancı                                            & 28.97097                                           & 41.07937                                           &  84                                               \\\\\n",
       "\t 2020-01-24                                         & ÇIN SABAHTA                                        & Gaziosmanpaşa Sahnesi                              & Yetişkin                                           & 0                                                  & Yerli                                              & 28.91648                                           & 41.05785                                           &  46                                               \\\\\n",
       "\t 2019-01-27                                         & POLLYANNA                                          & Kağıthane Sadabad Sahnesi                          & Çocuk                                              & 0                                                  & Yabancı                                            & 28.97097                                           & 41.07937                                           & 150                                               \\\\\n",
       "\t 2018-11-25                                         & BENİM GÜZEL PABUÇLARIM                             & Kağıthane Sadabad Sahnesi                          & Çocuk                                              & 0                                                  & Yerli                                              & 28.97097                                           & 41.07937                                           & 127                                               \\\\\n",
       "\\end{tabular}\n"
      ],
      "text/markdown": [
       "\n",
       "| PLAY_DATE | PLAY_NAME | THEATER_NAME | PLAY_CATEGORY | IS_GUEST_PLAY | PLAY_TYPE | LONGITUDE | LATITUDE | NUMBER_OF_AUDIENCE |\n",
       "|---|---|---|---|---|---|---|---|---|\n",
       "| 2017-12-27                                         | KARAGÖZ' ÜN UYKUSU                                 | Gaziosmanpaşa Ferih Egemen Çocuk Tiyatrosu Sahnesi | Çocuk                                              | 0                                                  | Yerli                                              | 28.91648                                           | 41.05785                                           |  50                                                |\n",
       "| 2019-03-28                                         | ŞAHANE ZÜĞÜRTLER                                   | Kadıköy Haldun Taner Sahnesi                       | Yetişkin                                           | 0                                                  | Yabancı                                            | 29.02341                                           | 40.99177                                           |   1                                                |\n",
       "| 2017-11-30                                         | BAK BİZİM ŞARKIMIZI ÇALIYORLAR                     | Kağıthane Sadabad Sahnesi                          | Müzikal                                            | 0                                                  | Yabancı                                            | 28.97097                                           | 41.07937                                           |  84                                                |\n",
       "| 2020-01-24                                         | ÇIN SABAHTA                                        | Gaziosmanpaşa Sahnesi                              | Yetişkin                                           | 0                                                  | Yerli                                              | 28.91648                                           | 41.05785                                           |  46                                                |\n",
       "| 2019-01-27                                         | POLLYANNA                                          | Kağıthane Sadabad Sahnesi                          | Çocuk                                              | 0                                                  | Yabancı                                            | 28.97097                                           | 41.07937                                           | 150                                                |\n",
       "| 2018-11-25                                         | BENİM GÜZEL PABUÇLARIM                             | Kağıthane Sadabad Sahnesi                          | Çocuk                                              | 0                                                  | Yerli                                              | 28.97097                                           | 41.07937                                           | 127                                                |\n",
       "\n"
      ],
      "text/plain": [
       "  PLAY_DATE  PLAY_NAME                     \n",
       "1 2017-12-27 KARAGÖZ' ÜN UYKUSU            \n",
       "2 2019-03-28 ŞAHANE ZÜĞÜRTLER              \n",
       "3 2017-11-30 BAK BİZİM ŞARKIMIZI ÇALIYORLAR\n",
       "4 2020-01-24 ÇIN SABAHTA                   \n",
       "5 2019-01-27 POLLYANNA                     \n",
       "6 2018-11-25 BENİM GÜZEL PABUÇLARIM        \n",
       "  THEATER_NAME                                       PLAY_CATEGORY\n",
       "1 Gaziosmanpaşa Ferih Egemen Çocuk Tiyatrosu Sahnesi Çocuk        \n",
       "2 Kadıköy Haldun Taner Sahnesi                       Yetişkin     \n",
       "3 Kağıthane Sadabad Sahnesi                          Müzikal      \n",
       "4 Gaziosmanpaşa Sahnesi                              Yetişkin     \n",
       "5 Kağıthane Sadabad Sahnesi                          Çocuk        \n",
       "6 Kağıthane Sadabad Sahnesi                          Çocuk        \n",
       "  IS_GUEST_PLAY PLAY_TYPE LONGITUDE LATITUDE NUMBER_OF_AUDIENCE\n",
       "1 0             Yerli     28.91648  41.05785  50               \n",
       "2 0             Yabancı   29.02341  40.99177   1               \n",
       "3 0             Yabancı   28.97097  41.07937  84               \n",
       "4 0             Yerli     28.91648  41.05785  46               \n",
       "5 0             Yabancı   28.97097  41.07937 150               \n",
       "6 0             Yerli     28.97097  41.07937 127               "
      ]
     },
     "metadata": {},
     "output_type": "display_data"
    }
   ],
   "source": [
    "head(df)"
   ]
  },
  {
   "cell_type": "markdown",
   "id": "87026755",
   "metadata": {},
   "source": [
    "First dataset consists of 9 columns, these are the date of the play, the name of the play, the name of the theater, the category of the play, whether the play belongs to that theater or is it a guest play, the type of play, the latitude and longitude of the theater and the number of spectators of the play."
   ]
  },
  {
   "cell_type": "code",
   "execution_count": 210,
   "id": "d894dd37",
   "metadata": {},
   "outputs": [],
   "source": [
    "colnames(df) <- c(\"date\", \"name\", \"theater_name\",\"category\", \n",
    "    \"is_guest_play\", \"type\", \"longitude\", \"latitude\", \"audience\")"
   ]
  },
  {
   "cell_type": "code",
   "execution_count": 211,
   "id": "58a5291d",
   "metadata": {},
   "outputs": [],
   "source": [
    "df <- transform(df, is_guest_play = as.factor(mapvalues(is_guest_play, c(0,1), c(\"hayır\",\"evet\"))))"
   ]
  },
  {
   "cell_type": "code",
   "execution_count": 212,
   "id": "48f5db30",
   "metadata": {},
   "outputs": [
    {
     "data": {
      "text/html": [
       "<table>\n",
       "<thead><tr><th scope=col>date</th><th scope=col>name</th><th scope=col>theater_name</th><th scope=col>category</th><th scope=col>is_guest_play</th><th scope=col>type</th><th scope=col>longitude</th><th scope=col>latitude</th><th scope=col>audience</th></tr></thead>\n",
       "<tbody>\n",
       "\t<tr><td>2017-12-27                                        </td><td>KARAGÖZ' ÜN UYKUSU                                </td><td>Gaziosmanpaşa Ferih Egemen Çocuk Tiyatrosu Sahnesi</td><td>Çocuk                                             </td><td>hayır                                             </td><td>Yerli                                             </td><td>28.91648                                          </td><td>41.05785                                          </td><td> 50                                               </td></tr>\n",
       "\t<tr><td>2019-03-28                                        </td><td>ŞAHANE ZÜĞÜRTLER                                  </td><td>Kadıköy Haldun Taner Sahnesi                      </td><td>Yetişkin                                          </td><td>hayır                                             </td><td>Yabancı                                           </td><td>29.02341                                          </td><td>40.99177                                          </td><td>  1                                               </td></tr>\n",
       "\t<tr><td>2017-11-30                                        </td><td>BAK BİZİM ŞARKIMIZI ÇALIYORLAR                    </td><td>Kağıthane Sadabad Sahnesi                         </td><td>Müzikal                                           </td><td>hayır                                             </td><td>Yabancı                                           </td><td>28.97097                                          </td><td>41.07937                                          </td><td> 84                                               </td></tr>\n",
       "\t<tr><td>2020-01-24                                        </td><td>ÇIN SABAHTA                                       </td><td>Gaziosmanpaşa Sahnesi                             </td><td>Yetişkin                                          </td><td>hayır                                             </td><td>Yerli                                             </td><td>28.91648                                          </td><td>41.05785                                          </td><td> 46                                               </td></tr>\n",
       "\t<tr><td>2019-01-27                                        </td><td>POLLYANNA                                         </td><td>Kağıthane Sadabad Sahnesi                         </td><td>Çocuk                                             </td><td>hayır                                             </td><td>Yabancı                                           </td><td>28.97097                                          </td><td>41.07937                                          </td><td>150                                               </td></tr>\n",
       "\t<tr><td>2018-11-25                                        </td><td>BENİM GÜZEL PABUÇLARIM                            </td><td>Kağıthane Sadabad Sahnesi                         </td><td>Çocuk                                             </td><td>hayır                                             </td><td>Yerli                                             </td><td>28.97097                                          </td><td>41.07937                                          </td><td>127                                               </td></tr>\n",
       "</tbody>\n",
       "</table>\n"
      ],
      "text/latex": [
       "\\begin{tabular}{r|lllllllll}\n",
       " date & name & theater\\_name & category & is\\_guest\\_play & type & longitude & latitude & audience\\\\\n",
       "\\hline\n",
       "\t 2017-12-27                                         & KARAGÖZ' ÜN UYKUSU                                 & Gaziosmanpaşa Ferih Egemen Çocuk Tiyatrosu Sahnesi & Çocuk                                              & hayır                                              & Yerli                                              & 28.91648                                           & 41.05785                                           &  50                                               \\\\\n",
       "\t 2019-03-28                                         & ŞAHANE ZÜĞÜRTLER                                   & Kadıköy Haldun Taner Sahnesi                       & Yetişkin                                           & hayır                                              & Yabancı                                            & 29.02341                                           & 40.99177                                           &   1                                               \\\\\n",
       "\t 2017-11-30                                         & BAK BİZİM ŞARKIMIZI ÇALIYORLAR                     & Kağıthane Sadabad Sahnesi                          & Müzikal                                            & hayır                                              & Yabancı                                            & 28.97097                                           & 41.07937                                           &  84                                               \\\\\n",
       "\t 2020-01-24                                         & ÇIN SABAHTA                                        & Gaziosmanpaşa Sahnesi                              & Yetişkin                                           & hayır                                              & Yerli                                              & 28.91648                                           & 41.05785                                           &  46                                               \\\\\n",
       "\t 2019-01-27                                         & POLLYANNA                                          & Kağıthane Sadabad Sahnesi                          & Çocuk                                              & hayır                                              & Yabancı                                            & 28.97097                                           & 41.07937                                           & 150                                               \\\\\n",
       "\t 2018-11-25                                         & BENİM GÜZEL PABUÇLARIM                             & Kağıthane Sadabad Sahnesi                          & Çocuk                                              & hayır                                              & Yerli                                              & 28.97097                                           & 41.07937                                           & 127                                               \\\\\n",
       "\\end{tabular}\n"
      ],
      "text/markdown": [
       "\n",
       "| date | name | theater_name | category | is_guest_play | type | longitude | latitude | audience |\n",
       "|---|---|---|---|---|---|---|---|---|\n",
       "| 2017-12-27                                         | KARAGÖZ' ÜN UYKUSU                                 | Gaziosmanpaşa Ferih Egemen Çocuk Tiyatrosu Sahnesi | Çocuk                                              | hayır                                              | Yerli                                              | 28.91648                                           | 41.05785                                           |  50                                                |\n",
       "| 2019-03-28                                         | ŞAHANE ZÜĞÜRTLER                                   | Kadıköy Haldun Taner Sahnesi                       | Yetişkin                                           | hayır                                              | Yabancı                                            | 29.02341                                           | 40.99177                                           |   1                                                |\n",
       "| 2017-11-30                                         | BAK BİZİM ŞARKIMIZI ÇALIYORLAR                     | Kağıthane Sadabad Sahnesi                          | Müzikal                                            | hayır                                              | Yabancı                                            | 28.97097                                           | 41.07937                                           |  84                                                |\n",
       "| 2020-01-24                                         | ÇIN SABAHTA                                        | Gaziosmanpaşa Sahnesi                              | Yetişkin                                           | hayır                                              | Yerli                                              | 28.91648                                           | 41.05785                                           |  46                                                |\n",
       "| 2019-01-27                                         | POLLYANNA                                          | Kağıthane Sadabad Sahnesi                          | Çocuk                                              | hayır                                              | Yabancı                                            | 28.97097                                           | 41.07937                                           | 150                                                |\n",
       "| 2018-11-25                                         | BENİM GÜZEL PABUÇLARIM                             | Kağıthane Sadabad Sahnesi                          | Çocuk                                              | hayır                                              | Yerli                                              | 28.97097                                           | 41.07937                                           | 127                                                |\n",
       "\n"
      ],
      "text/plain": [
       "  date       name                          \n",
       "1 2017-12-27 KARAGÖZ' ÜN UYKUSU            \n",
       "2 2019-03-28 ŞAHANE ZÜĞÜRTLER              \n",
       "3 2017-11-30 BAK BİZİM ŞARKIMIZI ÇALIYORLAR\n",
       "4 2020-01-24 ÇIN SABAHTA                   \n",
       "5 2019-01-27 POLLYANNA                     \n",
       "6 2018-11-25 BENİM GÜZEL PABUÇLARIM        \n",
       "  theater_name                                       category is_guest_play\n",
       "1 Gaziosmanpaşa Ferih Egemen Çocuk Tiyatrosu Sahnesi Çocuk    hayır        \n",
       "2 Kadıköy Haldun Taner Sahnesi                       Yetişkin hayır        \n",
       "3 Kağıthane Sadabad Sahnesi                          Müzikal  hayır        \n",
       "4 Gaziosmanpaşa Sahnesi                              Yetişkin hayır        \n",
       "5 Kağıthane Sadabad Sahnesi                          Çocuk    hayır        \n",
       "6 Kağıthane Sadabad Sahnesi                          Çocuk    hayır        \n",
       "  type    longitude latitude audience\n",
       "1 Yerli   28.91648  41.05785  50     \n",
       "2 Yabancı 29.02341  40.99177   1     \n",
       "3 Yabancı 28.97097  41.07937  84     \n",
       "4 Yerli   28.91648  41.05785  46     \n",
       "5 Yabancı 28.97097  41.07937 150     \n",
       "6 Yerli   28.97097  41.07937 127     "
      ]
     },
     "metadata": {},
     "output_type": "display_data"
    }
   ],
   "source": [
    "head(df)"
   ]
  },
  {
   "cell_type": "code",
   "execution_count": 213,
   "id": "a256d1b2",
   "metadata": {},
   "outputs": [
    {
     "data": {
      "text/plain": [
       "         date                                 name      \n",
       " 2019-12-17:  127   KARINCALAR - BİR SAVAŞ VARDI: 1025  \n",
       " 2019-12-18:  124   NORA - BİR BEBEK EVİ        :  884  \n",
       " 2019-12-19:  121   KAHVEDE ŞENLİK VAR          :  846  \n",
       " 2019-12-21:  116   ŞAHANE ZÜĞÜRTLER            :  763  \n",
       " 2019-12-20:  114   MATRUŞKA                    :  735  \n",
       " 2019-12-22:  113   BEN ÇAĞIRMADIM              :  706  \n",
       " (Other)   :26577   (Other)                     :22333  \n",
       "                            theater_name      category     is_guest_play\n",
       " Kağıthane Sadabad Sahnesi        :3553   Çocuk   : 7415   evet : 1136  \n",
       " Fatih Reşat Nuri Sahnesi         :3364   Müzikal : 2528   hayır:26156  \n",
       " Gaziosmanpaşa Sahnesi            :3347   Yetişkin:17349                \n",
       " Ümraniye Sahnesi                 :3260                                 \n",
       " Harbiye Muhsin Ertuğrul Sahnesi  :3200                                 \n",
       " Üsküdar Musahipzade Celãl Sahnesi:2925                                 \n",
       " (Other)                          :7643                                 \n",
       "      type         longitude        latitude        audience     \n",
       " Yabancı:11572   Min.   :28.88   Min.   :40.99   Min.   :   1.0  \n",
       " Yerli  :15720   1st Qu.:28.96   1st Qu.:41.02   1st Qu.:  11.0  \n",
       "                 Median :28.99   Median :41.03   Median :  32.0  \n",
       "                 Mean   :28.99   Mean   :41.04   Mean   :  66.2  \n",
       "                 3rd Qu.:29.02   3rd Qu.:41.06   3rd Qu.:  67.0  \n",
       "                 Max.   :29.10   Max.   :41.10   Max.   :3585.0  \n",
       "                                                                 "
      ]
     },
     "metadata": {},
     "output_type": "display_data"
    }
   ],
   "source": [
    "summary(df)"
   ]
  },
  {
   "cell_type": "code",
   "execution_count": 214,
   "id": "f55c02c1",
   "metadata": {},
   "outputs": [
    {
     "data": {
      "text/html": [
       "<dl class=dl-horizontal>\n",
       "\t<dt>Yabancı</dt>\n",
       "\t\t<dd>11572</dd>\n",
       "\t<dt>Yerli</dt>\n",
       "\t\t<dd>15720</dd>\n",
       "</dl>\n"
      ],
      "text/latex": [
       "\\begin{description*}\n",
       "\\item[Yabancı] 11572\n",
       "\\item[Yerli] 15720\n",
       "\\end{description*}\n"
      ],
      "text/markdown": [
       "Yabancı\n",
       ":   11572Yerli\n",
       ":   15720\n",
       "\n"
      ],
      "text/plain": [
       "Yabancı   Yerli \n",
       "  11572   15720 "
      ]
     },
     "metadata": {},
     "output_type": "display_data"
    }
   ],
   "source": [
    "summary(df$type)"
   ]
  },
  {
   "cell_type": "code",
   "execution_count": 215,
   "id": "0756c558",
   "metadata": {},
   "outputs": [
    {
     "data": {
      "text/html": [
       "<dl class=dl-horizontal>\n",
       "\t<dt>Çocuk</dt>\n",
       "\t\t<dd>7415</dd>\n",
       "\t<dt>Müzikal</dt>\n",
       "\t\t<dd>2528</dd>\n",
       "\t<dt>Yetişkin</dt>\n",
       "\t\t<dd>17349</dd>\n",
       "</dl>\n"
      ],
      "text/latex": [
       "\\begin{description*}\n",
       "\\item[Çocuk] 7415\n",
       "\\item[Müzikal] 2528\n",
       "\\item[Yetişkin] 17349\n",
       "\\end{description*}\n"
      ],
      "text/markdown": [
       "Çocuk\n",
       ":   7415Müzikal\n",
       ":   2528Yetişkin\n",
       ":   17349\n",
       "\n"
      ],
      "text/plain": [
       "   Çocuk  Müzikal Yetişkin \n",
       "    7415     2528    17349 "
      ]
     },
     "metadata": {},
     "output_type": "display_data"
    }
   ],
   "source": [
    "summary(df$category)"
   ]
  },
  {
   "cell_type": "code",
   "execution_count": 216,
   "id": "de5b1426",
   "metadata": {},
   "outputs": [
    {
     "data": {
      "text/plain": [
       "   Min. 1st Qu.  Median    Mean 3rd Qu.    Max. \n",
       "    1.0    11.0    32.0    66.2    67.0  3585.0 "
      ]
     },
     "metadata": {},
     "output_type": "display_data"
    }
   ],
   "source": [
    "summary(df$audience)"
   ]
  },
  {
   "cell_type": "markdown",
   "id": "c56beb2d",
   "metadata": {},
   "source": [
    "### Data visualization and Descriptive Stats"
   ]
  },
  {
   "cell_type": "code",
   "execution_count": 217,
   "id": "934558f4",
   "metadata": {},
   "outputs": [
    {
     "data": {
      "image/png": "[encoded data removed]",
      "text/plain": [
       "plot without title"
      ]
     },
     "metadata": {},
     "output_type": "display_data"
    }
   ],
   "source": [
    "ggplot(data=df, aes(x=audience)) +\n",
    "  geom_bar(fill=\"#bee1e6\")+\n",
    "  labs(title = \"Audience Count BarChart\", x=\"audience\", y=\"Count\")"
   ]
  },
  {
   "cell_type": "code",
   "execution_count": 218,
   "id": "d23834eb",
   "metadata": {},
   "outputs": [
    {
     "data": {
      "image/png": "[encoded data removed]",
      "text/plain": [
       "plot without title"
      ]
     },
     "metadata": {},
     "output_type": "display_data"
    }
   ],
   "source": [
    "line<-filter(summarise(group_by(df,theater_name), count=length(theater_name)),count>200)\n",
    "\n",
    "ggplot(line,aes(x=theater_name,y=count))+geom_col(fill='#bee1e6')+coord_flip()+theme_classic() +labs(title = \"Theater Name Count BarChart\", x=\"Theater Name\", y=\"Count\")"
   ]
  },
  {
   "cell_type": "code",
   "execution_count": 14,
   "id": "4ea02540",
   "metadata": {},
   "outputs": [
    {
     "data": {
      "text/plain": [
       "   Min. 1st Qu.  Median    Mean 3rd Qu.    Max. \n",
       "   1.00   10.00   30.00   62.34   64.00 3013.00 "
      ]
     },
     "metadata": {},
     "output_type": "display_data"
    }
   ],
   "source": [
    "summary(df[df$type==\"Yerli\", 9])"
   ]
  },
  {
   "cell_type": "code",
   "execution_count": 15,
   "id": "2fb83e20",
   "metadata": {},
   "outputs": [
    {
     "data": {
      "text/plain": [
       "   Min. 1st Qu.  Median    Mean 3rd Qu.    Max. \n",
       "   1.00   12.00   33.00   71.45   70.00 3585.00 "
      ]
     },
     "metadata": {},
     "output_type": "display_data"
    }
   ],
   "source": [
    "summary(df[df$type==\"Yabancı\", 9])"
   ]
  },
  {
   "cell_type": "markdown",
   "id": "d3c6c0f0",
   "metadata": {},
   "source": [
    "### Exploration of number of audience based on play type"
   ]
  },
  {
   "cell_type": "code",
   "execution_count": 16,
   "id": "255e3df7",
   "metadata": {},
   "outputs": [
    {
     "data": {
      "image/png": "[encoded data removed]",
      "text/plain": [
       "plot without title"
      ]
     },
     "metadata": {},
     "output_type": "display_data"
    }
   ],
   "source": [
    "ggplot(data=df, aes(x=type),aes(y=audience))+\n",
    "  geom_bar(fill=\"#bee1e6\")+\n",
    "  labs(title = \"Play Category audiences\", x=\"Play Type\", y=\"Number of Audience\")"
   ]
  },
  {
   "cell_type": "code",
   "execution_count": 141,
   "id": "7f1aa94b",
   "metadata": {},
   "outputs": [
    {
     "data": {
      "image/png": "[encoded data removed]",
      "text/plain": [
       "plot without title"
      ]
     },
     "metadata": {},
     "output_type": "display_data"
    }
   ],
   "source": [
    "ggplot(data=df, aes(x=type, y=audience, fill= type)) +\n",
    "  geom_boxplot() + \n",
    "  labs(title = \"Audiences number based on play type Boxplot\", x = \"Play Type\", y=\"Audiences Number\") +\n",
    "  stat_summary(fun=mean, geom=\"point\", shape=4, size=2)"
   ]
  },
  {
   "cell_type": "markdown",
   "id": "6bc86b18",
   "metadata": {},
   "source": [
    "### Exploration of number of audience based on play category"
   ]
  },
  {
   "cell_type": "code",
   "execution_count": 18,
   "id": "c74efdcc",
   "metadata": {},
   "outputs": [
    {
     "data": {
      "text/plain": [
       "   Min. 1st Qu.  Median    Mean 3rd Qu.    Max. \n",
       "   1.00   10.00   32.00   61.85   73.00 2023.00 "
      ]
     },
     "metadata": {},
     "output_type": "display_data"
    }
   ],
   "source": [
    "summary(df[df$category==\"Çocuk\", 9])"
   ]
  },
  {
   "cell_type": "code",
   "execution_count": 19,
   "id": "c26ef968",
   "metadata": {},
   "outputs": [
    {
     "data": {
      "text/plain": [
       "   Min. 1st Qu.  Median    Mean 3rd Qu.    Max. \n",
       "    1.0    17.0    44.0   100.5    88.0  3568.0 "
      ]
     },
     "metadata": {},
     "output_type": "display_data"
    }
   ],
   "source": [
    "summary(df[df$category==\"Müzikal\", 9])"
   ]
  },
  {
   "cell_type": "code",
   "execution_count": 20,
   "id": "6723d5b0",
   "metadata": {},
   "outputs": [
    {
     "data": {
      "text/plain": [
       "   Min. 1st Qu.  Median    Mean 3rd Qu.    Max. \n",
       "   1.00   11.00   30.00   63.06   62.00 3585.00 "
      ]
     },
     "metadata": {},
     "output_type": "display_data"
    }
   ],
   "source": [
    "summary(df[df$category==\"Yetişkin\", 9])"
   ]
  },
  {
   "cell_type": "code",
   "execution_count": 140,
   "id": "5bb8322c",
   "metadata": {},
   "outputs": [
    {
     "data": {
      "image/png": "[encoded data removed]",
      "text/plain": [
       "plot without title"
      ]
     },
     "metadata": {},
     "output_type": "display_data"
    }
   ],
   "source": [
    "ggplot(data=df, aes(x=category))+\n",
    "  geom_bar(fill=\"#bee1e6\")+\n",
    "  labs(title = \"Play Category count\", x=\"Play Category\", y=\"Count\")"
   ]
  },
  {
   "cell_type": "code",
   "execution_count": 22,
   "id": "00e2e19f",
   "metadata": {},
   "outputs": [
    {
     "data": {
      "image/png": "[encoded data removed]",
      "text/plain": [
       "plot without title"
      ]
     },
     "metadata": {},
     "output_type": "display_data"
    }
   ],
   "source": [
    "ggplot(data=df, aes(x=category, y=audience, fill= category)) +\n",
    "  geom_boxplot() + \n",
    "  labs(title = \"Play category based on type Boxplot\", x = \"Play Category\", y=\"Number of Audience\") +\n",
    "  stat_summary(fun=mean, geom=\"point\", shape=4, size=2) +\n",
    "  theme(axis.text.x=element_text(angle=-45,hjust=0,vjust=0))"
   ]
  },
  {
   "cell_type": "code",
   "execution_count": 23,
   "id": "b0f65d99",
   "metadata": {},
   "outputs": [
    {
     "data": {
      "image/png": "[encoded data removed]",
      "text/plain": [
       "plot without title"
      ]
     },
     "metadata": {},
     "output_type": "display_data"
    }
   ],
   "source": [
    "ggplot(df, aes(audience, fill=category)) + \n",
    "  geom_histogram(position=\"identity\", binwidth=5) +\n",
    "  facet_grid(category ~ .) + \n",
    "  ggtitle(\"Kid & Musical & Adult\") +\n",
    "  xlab(\"Audience Number\") + \n",
    "  ylab(\"Count\")"
   ]
  },
  {
   "cell_type": "code",
   "execution_count": 24,
   "id": "335368c5",
   "metadata": {},
   "outputs": [
    {
     "data": {
      "image/png": "[encoded data removed]",
      "text/plain": [
       "plot without title"
      ]
     },
     "metadata": {},
     "output_type": "display_data"
    }
   ],
   "source": [
    "ggplot(df, aes(x=category, fill=type))+\n",
    "  geom_bar() + \n",
    "  labs(title = \"Play category based on type BarChart\",x= \"Play category\",y= \"Count\") +\n",
    "  theme(axis.text.x=element_text(angle=-45,hjust=0,vjust=0))"
   ]
  },
  {
   "cell_type": "markdown",
   "id": "61fead3b",
   "metadata": {},
   "source": [
    "### Confidence Interval"
   ]
  },
  {
   "cell_type": "markdown",
   "id": "35caf17e",
   "metadata": {},
   "source": [
    "#### 1-) Confidence interval for audience number evaluating the differences based on play category."
   ]
  },
  {
   "cell_type": "code",
   "execution_count": 25,
   "id": "0e54e6f3",
   "metadata": {},
   "outputs": [],
   "source": [
    "kid<- subset(df, category==\"Çocuk\")\n",
    "musical <- subset(df, category==\"Müzikal\")\n",
    "adult <- subset(df, category==\"Yetişkin\")"
   ]
  },
  {
   "cell_type": "code",
   "execution_count": 26,
   "id": "d21223be",
   "metadata": {},
   "outputs": [
    {
     "data": {
      "text/html": [
       "<ol class=list-inline>\n",
       "\t<li>59.2337293857225</li>\n",
       "\t<li>64.4655288745607</li>\n",
       "</ol>\n"
      ],
      "text/latex": [
       "\\begin{enumerate*}\n",
       "\\item 59.2337293857225\n",
       "\\item 64.4655288745607\n",
       "\\end{enumerate*}\n"
      ],
      "text/markdown": [
       "1. 59.2337293857225\n",
       "2. 64.4655288745607\n",
       "\n",
       "\n"
      ],
      "text/plain": [
       "[1] 59.23373 64.46553\n",
       "attr(,\"conf.level\")\n",
       "[1] 0.95"
      ]
     },
     "metadata": {},
     "output_type": "display_data"
    }
   ],
   "source": [
    "x <- t.test(kid$audience)$conf.int\n",
    "x"
   ]
  },
  {
   "cell_type": "markdown",
   "id": "55da0f7b",
   "metadata": {},
   "source": [
    "The true average of audience number for kid plays is between 59.23 and 64.46 with 95% confidence."
   ]
  },
  {
   "cell_type": "code",
   "execution_count": 27,
   "id": "6c6d59d3",
   "metadata": {},
   "outputs": [
    {
     "data": {
      "text/html": [
       "<ol class=list-inline>\n",
       "\t<li>90.5692609877847</li>\n",
       "\t<li>110.521720024873</li>\n",
       "</ol>\n"
      ],
      "text/latex": [
       "\\begin{enumerate*}\n",
       "\\item 90.5692609877847\n",
       "\\item 110.521720024873\n",
       "\\end{enumerate*}\n"
      ],
      "text/markdown": [
       "1. 90.5692609877847\n",
       "2. 110.521720024873\n",
       "\n",
       "\n"
      ],
      "text/plain": [
       "[1]  90.56926 110.52172\n",
       "attr(,\"conf.level\")\n",
       "[1] 0.95"
      ]
     },
     "metadata": {},
     "output_type": "display_data"
    }
   ],
   "source": [
    "y <- t.test(musical$audience)$conf.int\n",
    "y"
   ]
  },
  {
   "cell_type": "markdown",
   "id": "5223bf0c",
   "metadata": {},
   "source": [
    "The true average of audience number for musical plays is between 90.56 and 110.52 with 95% confidence."
   ]
  },
  {
   "cell_type": "code",
   "execution_count": 28,
   "id": "65e480c2",
   "metadata": {},
   "outputs": [
    {
     "data": {
      "text/html": [
       "<ol class=list-inline>\n",
       "\t<li>60.5481958237832</li>\n",
       "\t<li>65.5682374000337</li>\n",
       "</ol>\n"
      ],
      "text/latex": [
       "\\begin{enumerate*}\n",
       "\\item 60.5481958237832\n",
       "\\item 65.5682374000337\n",
       "\\end{enumerate*}\n"
      ],
      "text/markdown": [
       "1. 60.5481958237832\n",
       "2. 65.5682374000337\n",
       "\n",
       "\n"
      ],
      "text/plain": [
       "[1] 60.54820 65.56824\n",
       "attr(,\"conf.level\")\n",
       "[1] 0.95"
      ]
     },
     "metadata": {},
     "output_type": "display_data"
    }
   ],
   "source": [
    "z <- t.test(adult$audience)$conf.int\n",
    "z"
   ]
  },
  {
   "cell_type": "markdown",
   "id": "d76768ed",
   "metadata": {},
   "source": [
    "The true average of audience number for musical plays is between 60.54 and 65.56 with 95% confidence."
   ]
  },
  {
   "cell_type": "code",
   "execution_count": 29,
   "id": "dfa53bf8",
   "metadata": {},
   "outputs": [
    {
     "data": {
      "image/png": "[encoded data removed]",
      "text/plain": [
       "plot without title"
      ]
     },
     "metadata": {},
     "output_type": "display_data"
    }
   ],
   "source": [
    "play.audience <- data.frame(Category=\"Kid\",\n",
    "                                mean=mean(kid$audience), \n",
    "                                lower=x[1], \n",
    "                                upper=x[2])\n",
    "\n",
    "play.audience <- rbind(play.audience , data.frame(Category=\"Musical\",\n",
    "                                mean=mean(musical$audience), \n",
    "                                lower=y[1], \n",
    "                                upper=y[2]))\n",
    "\n",
    "play.audience <- rbind(play.audience , data.frame(Category=\"Adult\",\n",
    "                                mean=mean(adult$audience), \n",
    "                                lower=z[1], \n",
    "                                upper=z[2]))\n",
    "\n",
    "ggplot(play.audience, aes(x=Category, y=mean, fill=Category)) +\n",
    "  geom_bar(position=\"dodge\", stat=\"identity\", width = 0.3) +\n",
    "  geom_errorbar(aes(ymin=lower, ymax=upper),\n",
    "                width=.1, \n",
    "                position=position_dodge(0.1))"
   ]
  },
  {
   "cell_type": "markdown",
   "id": "a10b8fbd",
   "metadata": {},
   "source": [
    "#### 2-) Confidence interval for audience number evaluating the differences based on play type."
   ]
  },
  {
   "cell_type": "code",
   "execution_count": 30,
   "id": "209e1712",
   "metadata": {},
   "outputs": [],
   "source": [
    "domestic<- subset(df, type==\"Yerli\")\n",
    "foreign <- subset(df, type==\"Yabancı\")"
   ]
  },
  {
   "cell_type": "code",
   "execution_count": 31,
   "id": "588bb395",
   "metadata": {},
   "outputs": [
    {
     "data": {
      "text/html": [
       "<ol class=list-inline>\n",
       "\t<li>59.9969512963599</li>\n",
       "\t<li>64.6768400522406</li>\n",
       "</ol>\n"
      ],
      "text/latex": [
       "\\begin{enumerate*}\n",
       "\\item 59.9969512963599\n",
       "\\item 64.6768400522406\n",
       "\\end{enumerate*}\n"
      ],
      "text/markdown": [
       "1. 59.9969512963599\n",
       "2. 64.6768400522406\n",
       "\n",
       "\n"
      ],
      "text/plain": [
       "[1] 59.99695 64.67684\n",
       "attr(,\"conf.level\")\n",
       "[1] 0.95"
      ]
     },
     "metadata": {},
     "output_type": "display_data"
    }
   ],
   "source": [
    "x <- t.test(domestic$audience)$conf.int\n",
    "x"
   ]
  },
  {
   "cell_type": "markdown",
   "id": "f06d58f4",
   "metadata": {},
   "source": [
    "The true average of audience number for kid plays is between 59.99 and 64.67 with 95% confidence."
   ]
  },
  {
   "cell_type": "code",
   "execution_count": 32,
   "id": "748dca18",
   "metadata": {},
   "outputs": [
    {
     "data": {
      "text/html": [
       "<ol class=list-inline>\n",
       "\t<li>68.0340528110632</li>\n",
       "\t<li>74.8720999715154</li>\n",
       "</ol>\n"
      ],
      "text/latex": [
       "\\begin{enumerate*}\n",
       "\\item 68.0340528110632\n",
       "\\item 74.8720999715154\n",
       "\\end{enumerate*}\n"
      ],
      "text/markdown": [
       "1. 68.0340528110632\n",
       "2. 74.8720999715154\n",
       "\n",
       "\n"
      ],
      "text/plain": [
       "[1] 68.03405 74.87210\n",
       "attr(,\"conf.level\")\n",
       "[1] 0.95"
      ]
     },
     "metadata": {},
     "output_type": "display_data"
    }
   ],
   "source": [
    "y <- t.test(foreign$audience)$conf.int\n",
    "y"
   ]
  },
  {
   "cell_type": "markdown",
   "id": "e74f9548",
   "metadata": {},
   "source": [
    "The true average of audience number for kid plays is between 68.03 and 74.87 with 95% confidence.\n",
    "\n",
    "To conclude, It looks there is no overlap between domestic and foreign play's audiences confidence interval.\n",
    "\n",
    "Let's we visualize;"
   ]
  },
  {
   "cell_type": "code",
   "execution_count": 33,
   "id": "af1ccc3b",
   "metadata": {},
   "outputs": [
    {
     "data": {
      "image/png": "[encoded data removed]",
      "text/plain": [
       "plot without title"
      ]
     },
     "metadata": {},
     "output_type": "display_data"
    }
   ],
   "source": [
    "play.audience <- data.frame(Type=\"Yerli\",\n",
    "                                mean=mean(domestic$audience), \n",
    "                                lower=x[1], \n",
    "                                upper=x[2])\n",
    "\n",
    "play.audience <- rbind(play.audience , data.frame(Type=\"Yabancı\",\n",
    "                                mean=mean(foreign$audience), \n",
    "                                lower=y[1], \n",
    "                                upper=y[2]))\n",
    "\n",
    "ggplot(play.audience, aes(x=Type, y=mean, fill=Type)) +\n",
    "  geom_bar(position=\"dodge\", stat=\"identity\", width = 0.3) +\n",
    "  geom_errorbar(aes(ymin=lower, ymax=upper),\n",
    "                width=.1,\n",
    "                position=position_dodge(0.1))"
   ]
  },
  {
   "cell_type": "markdown",
   "id": "870d48ae",
   "metadata": {},
   "source": [
    "## Hypothesis testing\n",
    "### One Sample Test"
   ]
  },
  {
   "cell_type": "markdown",
   "id": "a2ae510c",
   "metadata": {},
   "source": [
    "#### 1-) One sample hypothesis for mean of number of audiences for category of play is Çocuk and testing it with 95% confidence interval."
   ]
  },
  {
   "cell_type": "markdown",
   "id": "6d10a66a",
   "metadata": {},
   "source": [
    "H0:μ = 63\n",
    "\n",
    "H1:μ != 63\n",
    "\n",
    "In order to assess normality of data, used qqplot and Anderson-Darling test."
   ]
  },
  {
   "cell_type": "code",
   "execution_count": 34,
   "id": "36751ad8",
   "metadata": {},
   "outputs": [
    {
     "data": {
      "text/plain": [
       "\n",
       "\tAnderson-Darling normality test\n",
       "\n",
       "data:  kid$audience\n",
       "A = 966.84, p-value < 2.2e-16\n"
      ]
     },
     "metadata": {},
     "output_type": "display_data"
    }
   ],
   "source": [
    "ad.test(kid$audience)"
   ]
  },
  {
   "cell_type": "markdown",
   "id": "63ba69d4",
   "metadata": {},
   "source": [
    "As the p-value < 0.05, the null hypothesis is rejected, so data is not normally distributed.\n",
    "\n",
    "Let’s visualize it using Q-Q Plot."
   ]
  },
  {
   "cell_type": "code",
   "execution_count": 35,
   "id": "34cc7cbb",
   "metadata": {},
   "outputs": [
    {
     "data": {
      "image/png": "[encoded data removed]",
      "text/plain": [
       "Plot with title \"Normal Q-Q Plot\""
      ]
     },
     "metadata": {},
     "output_type": "display_data"
    }
   ],
   "source": [
    "qqnorm(kid$audience, ylab = \"Kid Plays Audience Number\")\n",
    "qqline(kid$audience)"
   ]
  },
  {
   "cell_type": "code",
   "execution_count": 36,
   "id": "4494808b",
   "metadata": {},
   "outputs": [
    {
     "data": {
      "text/plain": [
       "\n",
       "\tOne Sample t-test\n",
       "\n",
       "data:  kid$audience\n",
       "t = -0.86206, df = 7414, p-value = 0.3887\n",
       "alternative hypothesis: true mean is not equal to 63\n",
       "95 percent confidence interval:\n",
       " 59.23373 64.46553\n",
       "sample estimates:\n",
       "mean of x \n",
       " 61.84963 \n"
      ]
     },
     "metadata": {},
     "output_type": "display_data"
    }
   ],
   "source": [
    "t.test(kid$audience, \n",
    "       alternative = \"two.sided\", \n",
    "       mu=63, \n",
    "       conf.level = 0.95)"
   ]
  },
  {
   "cell_type": "markdown",
   "id": "3248db58",
   "metadata": {},
   "source": [
    "To conclude, as p-value > 0.05, the null hypothesis is not rejected and the confidence interval is between 59.23 and 64.46 with 95% confident"
   ]
  },
  {
   "cell_type": "markdown",
   "id": "e77ab531",
   "metadata": {},
   "source": [
    "#### 2-) One sample hypothesis for mean of number of audiences for type of play is Yabancı and testing it with 95% confidence interval."
   ]
  },
  {
   "cell_type": "markdown",
   "id": "292c9351",
   "metadata": {},
   "source": [
    "H0:μ = 70\n",
    "\n",
    "H1:μ > 70\n",
    "\n",
    "In order to assess normality of data,used qqplot and Anderson-Darling test."
   ]
  },
  {
   "cell_type": "code",
   "execution_count": 37,
   "id": "038da333",
   "metadata": {},
   "outputs": [
    {
     "data": {
      "text/plain": [
       "\n",
       "\tAnderson-Darling normality test\n",
       "\n",
       "data:  foreign$audience\n",
       "A = 2314.7, p-value < 2.2e-16\n"
      ]
     },
     "metadata": {},
     "output_type": "display_data"
    }
   ],
   "source": [
    "ad.test(foreign$audience)"
   ]
  },
  {
   "cell_type": "markdown",
   "id": "f42a8ab2",
   "metadata": {},
   "source": [
    "As the p-value < 0.05, the null hypothesis is rejected, so data is not normally distributed"
   ]
  },
  {
   "cell_type": "code",
   "execution_count": 38,
   "id": "6cbad31b",
   "metadata": {},
   "outputs": [
    {
     "data": {
      "image/png": "[encoded data removed]",
      "text/plain": [
       "Plot with title \"Normal Q-Q Plot\""
      ]
     },
     "metadata": {},
     "output_type": "display_data"
    }
   ],
   "source": [
    "qqnorm(foreign$audience, ylab = \"Foreign Plays Audience Number\")\n",
    "qqline(foreign$audience)"
   ]
  },
  {
   "cell_type": "code",
   "execution_count": 39,
   "id": "882321d6",
   "metadata": {},
   "outputs": [
    {
     "data": {
      "text/plain": [
       "\n",
       "\tOne Sample t-test\n",
       "\n",
       "data:  foreign$audience\n",
       "t = 0.83307, df = 11571, p-value = 0.7976\n",
       "alternative hypothesis: true mean is less than 70\n",
       "95 percent confidence interval:\n",
       "     -Inf 74.32234\n",
       "sample estimates:\n",
       "mean of x \n",
       " 71.45308 \n"
      ]
     },
     "metadata": {},
     "output_type": "display_data"
    }
   ],
   "source": [
    "t.test(foreign$audience, \n",
    "       alternative = \"less\", \n",
    "       mu=70, \n",
    "       conf.level = 0.95)"
   ]
  },
  {
   "cell_type": "markdown",
   "id": "6405c1f8",
   "metadata": {},
   "source": [
    "To conclude, as p-value > 0.05, the null hypothesis is not rejected and the confidence interval is between -infinity and 74.32 with 95% confident"
   ]
  },
  {
   "cell_type": "markdown",
   "id": "0c0ac027",
   "metadata": {},
   "source": [
    "### Two Sample Test"
   ]
  },
  {
   "cell_type": "markdown",
   "id": "b48ace7d",
   "metadata": {},
   "source": [
    "#### Are there significant difference between mean of kid and adult plays audience number?"
   ]
  },
  {
   "cell_type": "markdown",
   "id": "7167a494",
   "metadata": {},
   "source": [
    "Let’s check if the populations have the same variance."
   ]
  },
  {
   "cell_type": "code",
   "execution_count": 40,
   "id": "95e42811",
   "metadata": {},
   "outputs": [
    {
     "data": {
      "text/plain": [
       "\n",
       "\tF test to compare two variances\n",
       "\n",
       "data:  x and y\n",
       "F = 2.3, num df = 2527, denom df = 17348, p-value < 2.2e-16\n",
       "alternative hypothesis: true ratio of variances is not equal to 1\n",
       "95 percent confidence interval:\n",
       " 2.169577 2.441448\n",
       "sample estimates:\n",
       "ratio of variances \n",
       "          2.299987 \n"
      ]
     },
     "metadata": {},
     "output_type": "display_data"
    }
   ],
   "source": [
    "x <- subset(df, category==\"Müzikal\")$audience\n",
    "y <- subset(df, category==\"Yetişkin\")$audience\n",
    "var.test(x, y)"
   ]
  },
  {
   "cell_type": "markdown",
   "id": "a974139c",
   "metadata": {},
   "source": [
    "As p-value < 0.05, the null hypothesis is rejected and the variances are not equal.\n",
    "\n",
    "In order to assess normality of data, we can use qqplot and shapiro test."
   ]
  },
  {
   "cell_type": "code",
   "execution_count": 41,
   "id": "89ca6034",
   "metadata": {},
   "outputs": [
    {
     "data": {
      "text/plain": [
       "\n",
       "\tAnderson-Darling normality test\n",
       "\n",
       "data:  musical$audience\n",
       "A = 536.42, p-value < 2.2e-16\n"
      ]
     },
     "metadata": {},
     "output_type": "display_data"
    }
   ],
   "source": [
    "ad.test(musical$audience)"
   ]
  },
  {
   "cell_type": "markdown",
   "id": "ebce8ed5",
   "metadata": {},
   "source": [
    "As the p-value < 0.05, the null hypothesis is rejected, so data is not normally distributed."
   ]
  },
  {
   "cell_type": "code",
   "execution_count": 42,
   "id": "7ba44b89",
   "metadata": {},
   "outputs": [
    {
     "data": {
      "text/plain": [
       "\n",
       "\tAnderson-Darling normality test\n",
       "\n",
       "data:  adult$audience\n",
       "A = 3528.3, p-value < 2.2e-16\n"
      ]
     },
     "metadata": {},
     "output_type": "display_data"
    }
   ],
   "source": [
    "ad.test(adult$audience)"
   ]
  },
  {
   "cell_type": "markdown",
   "id": "20bf7f6f",
   "metadata": {},
   "source": [
    "As the p-value < 0.05, the null hypothesis is rejected, so data is not normally distributed."
   ]
  },
  {
   "cell_type": "code",
   "execution_count": 43,
   "id": "b61656c5",
   "metadata": {},
   "outputs": [
    {
     "data": {
      "text/plain": [
       "\n",
       "\tTwo Sample t-test\n",
       "\n",
       "data:  x and y\n",
       "t = 9.6712, df = 19875, p-value < 2.2e-16\n",
       "alternative hypothesis: true difference in means is not equal to 0\n",
       "95 percent confidence interval:\n",
       " 29.88967 45.08488\n",
       "sample estimates:\n",
       "mean of x mean of y \n",
       "100.54549  63.05822 \n"
      ]
     },
     "metadata": {},
     "output_type": "display_data"
    }
   ],
   "source": [
    "t.test(x=x, y=y, alternative = \"two.sided\", var.equal = TRUE,\n",
    "       conf.level = 0.95)"
   ]
  },
  {
   "cell_type": "markdown",
   "id": "a4aa5d27",
   "metadata": {},
   "source": [
    "To conclude, as p-value < 0.05, the null hypothesis is rejected. We can conclude that there is not statistically significant difference between musical and adult plays audiences."
   ]
  },
  {
   "cell_type": "markdown",
   "id": "c5347386",
   "metadata": {},
   "source": [
    "### ANOVA"
   ]
  },
  {
   "cell_type": "markdown",
   "id": "da1ecad7",
   "metadata": {},
   "source": [
    "#### Are there significant difference between mean of number of audience for different play category?"
   ]
  },
  {
   "cell_type": "code",
   "execution_count": 44,
   "id": "50f2a787",
   "metadata": {},
   "outputs": [
    {
     "data": {
      "text/html": [
       "<table>\n",
       "<thead><tr><th scope=col>categories</th><th scope=col>audience</th></tr></thead>\n",
       "<tbody>\n",
       "\t<tr><td>Çocuk   </td><td> 50     </td></tr>\n",
       "\t<tr><td>Yetişkin</td><td>  1     </td></tr>\n",
       "\t<tr><td>Müzikal </td><td> 84     </td></tr>\n",
       "\t<tr><td>Yetişkin</td><td> 46     </td></tr>\n",
       "\t<tr><td>Çocuk   </td><td>150     </td></tr>\n",
       "\t<tr><td>Çocuk   </td><td>127     </td></tr>\n",
       "</tbody>\n",
       "</table>\n"
      ],
      "text/latex": [
       "\\begin{tabular}{r|ll}\n",
       " categories & audience\\\\\n",
       "\\hline\n",
       "\t Çocuk    &  50     \\\\\n",
       "\t Yetişkin &   1     \\\\\n",
       "\t Müzikal  &  84     \\\\\n",
       "\t Yetişkin &  46     \\\\\n",
       "\t Çocuk    & 150     \\\\\n",
       "\t Çocuk    & 127     \\\\\n",
       "\\end{tabular}\n"
      ],
      "text/markdown": [
       "\n",
       "| categories | audience |\n",
       "|---|---|\n",
       "| Çocuk    |  50      |\n",
       "| Yetişkin |   1      |\n",
       "| Müzikal  |  84      |\n",
       "| Yetişkin |  46      |\n",
       "| Çocuk    | 150      |\n",
       "| Çocuk    | 127      |\n",
       "\n"
      ],
      "text/plain": [
       "  categories audience\n",
       "1 Çocuk       50     \n",
       "2 Yetişkin     1     \n",
       "3 Müzikal     84     \n",
       "4 Yetişkin    46     \n",
       "5 Çocuk      150     \n",
       "6 Çocuk      127     "
      ]
     },
     "metadata": {},
     "output_type": "display_data"
    }
   ],
   "source": [
    "data <- df[, c(4, 9)]\n",
    "names(data) <- c(\"categories\", \"audience\")\n",
    "head(data)"
   ]
  },
  {
   "cell_type": "code",
   "execution_count": 45,
   "id": "b468aea2",
   "metadata": {},
   "outputs": [
    {
     "data": {
      "text/html": [
       "<ol class=list-inline>\n",
       "\t<li>'Çocuk'</li>\n",
       "\t<li>'Müzikal'</li>\n",
       "\t<li>'Yetişkin'</li>\n",
       "</ol>\n"
      ],
      "text/latex": [
       "\\begin{enumerate*}\n",
       "\\item 'Çocuk'\n",
       "\\item 'Müzikal'\n",
       "\\item 'Yetişkin'\n",
       "\\end{enumerate*}\n"
      ],
      "text/markdown": [
       "1. 'Çocuk'\n",
       "2. 'Müzikal'\n",
       "3. 'Yetişkin'\n",
       "\n",
       "\n"
      ],
      "text/plain": [
       "[1] \"Çocuk\"    \"Müzikal\"  \"Yetişkin\""
      ]
     },
     "metadata": {},
     "output_type": "display_data"
    }
   ],
   "source": [
    "levels(data$categories)"
   ]
  },
  {
   "cell_type": "code",
   "execution_count": 46,
   "id": "0af5a4b1",
   "metadata": {},
   "outputs": [
    {
     "data": {
      "text/html": [
       "<table>\n",
       "<thead><tr><th scope=col>categories</th><th scope=col>count</th><th scope=col>mean</th><th scope=col>sd</th></tr></thead>\n",
       "<tbody>\n",
       "\t<tr><td>Çocuk    </td><td> 7415    </td><td> 61.84963</td><td>114.9100 </td></tr>\n",
       "\t<tr><td>Müzikal  </td><td> 2528    </td><td>100.54549</td><td>255.7990 </td></tr>\n",
       "\t<tr><td>Yetişkin </td><td>17349    </td><td> 63.05822</td><td>168.6693 </td></tr>\n",
       "</tbody>\n",
       "</table>\n"
      ],
      "text/latex": [
       "\\begin{tabular}{r|llll}\n",
       " categories & count & mean & sd\\\\\n",
       "\\hline\n",
       "\t Çocuk     &  7415     &  61.84963 & 114.9100 \\\\\n",
       "\t Müzikal   &  2528     & 100.54549 & 255.7990 \\\\\n",
       "\t Yetişkin  & 17349     &  63.05822 & 168.6693 \\\\\n",
       "\\end{tabular}\n"
      ],
      "text/markdown": [
       "\n",
       "| categories | count | mean | sd |\n",
       "|---|---|---|---|\n",
       "| Çocuk     |  7415     |  61.84963 | 114.9100  |\n",
       "| Müzikal   |  2528     | 100.54549 | 255.7990  |\n",
       "| Yetişkin  | 17349     |  63.05822 | 168.6693  |\n",
       "\n"
      ],
      "text/plain": [
       "  categories count mean      sd      \n",
       "1 Çocuk       7415  61.84963 114.9100\n",
       "2 Müzikal     2528 100.54549 255.7990\n",
       "3 Yetişkin   17349  63.05822 168.6693"
      ]
     },
     "metadata": {},
     "output_type": "display_data"
    }
   ],
   "source": [
    "group_by(data, categories) %>%\n",
    "  summarise(\n",
    "    count = n(),\n",
    "    mean = mean(audience, na.rm = TRUE),\n",
    "    sd = sd(audience, na.rm = TRUE)\n",
    "  )"
   ]
  },
  {
   "cell_type": "markdown",
   "id": "5fc59f96",
   "metadata": {},
   "source": [
    "##### Hypothesis:\n",
    "H0: μ1=μ2=μ3\n",
    "\n",
    "H1: At least one is different"
   ]
  },
  {
   "cell_type": "markdown",
   "id": "67b43bf1",
   "metadata": {},
   "source": [
    "##### Visualization"
   ]
  },
  {
   "cell_type": "code",
   "execution_count": 47,
   "id": "b9d3fb22",
   "metadata": {},
   "outputs": [
    {
     "data": {
      "image/png": "[encoded data removed]",
      "text/plain": [
       "plot without title"
      ]
     },
     "metadata": {},
     "output_type": "display_data"
    }
   ],
   "source": [
    "ggplot(data=data, aes(x=categories, y=audience, fill= categories)) +\n",
    "  geom_boxplot() + \n",
    "  labs(title = \"Play category based on type Boxplot\", x = \"Play Category\", y=\"Audience Number\") +\n",
    "  stat_summary(fun=mean, geom=\"point\", shape=4, size=2) +\n",
    "  theme(axis.text.x=element_text(angle=-45,hjust=0,vjust=0))"
   ]
  },
  {
   "cell_type": "markdown",
   "id": "cd38eea2",
   "metadata": {},
   "source": [
    "##### Normality Assumption"
   ]
  },
  {
   "cell_type": "markdown",
   "id": "f626b646",
   "metadata": {},
   "source": [
    "We will check normality assumption by Anderson-Darling-test."
   ]
  },
  {
   "cell_type": "code",
   "execution_count": 48,
   "id": "9e16954f",
   "metadata": {},
   "outputs": [
    {
     "data": {
      "text/plain": [
       "\n",
       "\tAnderson-Darling normality test\n",
       "\n",
       "data:  data[data$categories == \"Çocuk\", 2]\n",
       "A = 966.84, p-value < 2.2e-16\n"
      ]
     },
     "metadata": {},
     "output_type": "display_data"
    }
   ],
   "source": [
    "ad.test(data[data$categories==\"Çocuk\", 2])"
   ]
  },
  {
   "cell_type": "code",
   "execution_count": 49,
   "id": "4c5eba73",
   "metadata": {},
   "outputs": [
    {
     "data": {
      "text/plain": [
       "\n",
       "\tAnderson-Darling normality test\n",
       "\n",
       "data:  data[data$categories == \"Yetişkin\", 2]\n",
       "A = 3528.3, p-value < 2.2e-16\n"
      ]
     },
     "metadata": {},
     "output_type": "display_data"
    }
   ],
   "source": [
    "ad.test(data[data$categories==\"Yetişkin\", 2])"
   ]
  },
  {
   "cell_type": "code",
   "execution_count": 50,
   "id": "0b8edc2a",
   "metadata": {},
   "outputs": [
    {
     "data": {
      "text/plain": [
       "\n",
       "\tAnderson-Darling normality test\n",
       "\n",
       "data:  data[data$categories == \"Müzikal\", 2]\n",
       "A = 536.42, p-value < 2.2e-16\n"
      ]
     },
     "metadata": {},
     "output_type": "display_data"
    }
   ],
   "source": [
    "ad.test(data[data$categories==\"Müzikal\", 2])"
   ]
  },
  {
   "cell_type": "markdown",
   "id": "5adfd3c5",
   "metadata": {},
   "source": [
    "#### Variance homogeneity"
   ]
  },
  {
   "cell_type": "code",
   "execution_count": 51,
   "id": "22303f03",
   "metadata": {},
   "outputs": [
    {
     "data": {
      "text/plain": [
       "\n",
       "\tBartlett test of homogeneity of variances\n",
       "\n",
       "data:  audience by categories\n",
       "Bartlett's K-squared = 2889.2, df = 2, p-value < 2.2e-16\n"
      ]
     },
     "metadata": {},
     "output_type": "display_data"
    }
   ],
   "source": [
    "bartlett.test(audience~categories, data=data)"
   ]
  },
  {
   "cell_type": "markdown",
   "id": "97a8928a",
   "metadata": {},
   "source": [
    "Based on output of barlett-test, p-value < 0.05 So, the null hypothesis is rejected and variances are not equal."
   ]
  },
  {
   "cell_type": "markdown",
   "id": "372ed8eb",
   "metadata": {},
   "source": [
    "##### Analysis of variance"
   ]
  },
  {
   "cell_type": "code",
   "execution_count": 52,
   "id": "0e1e37ad",
   "metadata": {},
   "outputs": [
    {
     "data": {
      "text/plain": [
       "               Df    Sum Sq Mean Sq F value Pr(>F)    \n",
       "categories      2   3293644 1646822   59.38 <2e-16 ***\n",
       "Residuals   27289 756785433   27732                   \n",
       "---\n",
       "Signif. codes:  0 '***' 0.001 '**' 0.01 '*' 0.05 '.' 0.1 ' ' 1"
      ]
     },
     "metadata": {},
     "output_type": "display_data"
    }
   ],
   "source": [
    "model<-aov(audience~categories, data=data)\n",
    "summary(model)"
   ]
  },
  {
   "cell_type": "markdown",
   "id": "c047d41d",
   "metadata": {},
   "source": [
    "The p-value < 0.05, we can conclude that there is significant differences between the categories plays audience number."
   ]
  },
  {
   "cell_type": "markdown",
   "id": "f332c546",
   "metadata": {},
   "source": [
    "## Part 2 (Second Dataset)"
   ]
  },
  {
   "cell_type": "markdown",
   "id": "b9011809",
   "metadata": {},
   "source": [
    "### Data Exploration & Preprocessing"
   ]
  },
  {
   "cell_type": "code",
   "execution_count": 53,
   "id": "60d90aa1",
   "metadata": {},
   "outputs": [
    {
     "data": {
      "text/html": [
       "<table>\n",
       "<thead><tr><th scope=col>Tarih</th><th scope=col>Yerli.Oyun.sayısı</th><th scope=col>Yabancı.Oyun.Sayısı</th><th scope=col>Kategori</th></tr></thead>\n",
       "<tbody>\n",
       "\t<tr><td>2017               </td><td>14                 </td><td>11                 </td><td>Yetişkin Ve Müzikal</td></tr>\n",
       "\t<tr><td>2018               </td><td>18                 </td><td>15                 </td><td>Yetişkin Ve Müzikal</td></tr>\n",
       "\t<tr><td>2019               </td><td>16                 </td><td>19                 </td><td>Yetişkin Ve Müzikal</td></tr>\n",
       "\t<tr><td>2020               </td><td>14                 </td><td>14                 </td><td>Yetişkin Ve Müzikal</td></tr>\n",
       "\t<tr><td>2017               </td><td> 8                 </td><td> 3                 </td><td>Çocuk              </td></tr>\n",
       "\t<tr><td>2018               </td><td>14                 </td><td> 3                 </td><td>Çocuk              </td></tr>\n",
       "</tbody>\n",
       "</table>\n"
      ],
      "text/latex": [
       "\\begin{tabular}{r|llll}\n",
       " Tarih & Yerli.Oyun.sayısı & Yabancı.Oyun.Sayısı & Kategori\\\\\n",
       "\\hline\n",
       "\t 2017                & 14                  & 11                  & Yetişkin Ve Müzikal\\\\\n",
       "\t 2018                & 18                  & 15                  & Yetişkin Ve Müzikal\\\\\n",
       "\t 2019                & 16                  & 19                  & Yetişkin Ve Müzikal\\\\\n",
       "\t 2020                & 14                  & 14                  & Yetişkin Ve Müzikal\\\\\n",
       "\t 2017                &  8                  &  3                  & Çocuk              \\\\\n",
       "\t 2018                & 14                  &  3                  & Çocuk              \\\\\n",
       "\\end{tabular}\n"
      ],
      "text/markdown": [
       "\n",
       "| Tarih | Yerli.Oyun.sayısı | Yabancı.Oyun.Sayısı | Kategori |\n",
       "|---|---|---|---|\n",
       "| 2017                | 14                  | 11                  | Yetişkin Ve Müzikal |\n",
       "| 2018                | 18                  | 15                  | Yetişkin Ve Müzikal |\n",
       "| 2019                | 16                  | 19                  | Yetişkin Ve Müzikal |\n",
       "| 2020                | 14                  | 14                  | Yetişkin Ve Müzikal |\n",
       "| 2017                |  8                  |  3                  | Çocuk               |\n",
       "| 2018                | 14                  |  3                  | Çocuk               |\n",
       "\n"
      ],
      "text/plain": [
       "  Tarih Yerli.Oyun.sayısı Yabancı.Oyun.Sayısı Kategori           \n",
       "1 2017  14                11                  Yetişkin Ve Müzikal\n",
       "2 2018  18                15                  Yetişkin Ve Müzikal\n",
       "3 2019  16                19                  Yetişkin Ve Müzikal\n",
       "4 2020  14                14                  Yetişkin Ve Müzikal\n",
       "5 2017   8                 3                  Çocuk              \n",
       "6 2018  14                 3                  Çocuk              "
      ]
     },
     "metadata": {},
     "output_type": "display_data"
    }
   ],
   "source": [
    "head(df2)"
   ]
  },
  {
   "cell_type": "markdown",
   "id": "82b53582",
   "metadata": {},
   "source": [
    "The second dataset consists of four lines, these are the date, the number of domestic plays, the number of foreign plays and the category of the play."
   ]
  },
  {
   "cell_type": "code",
   "execution_count": 54,
   "id": "878e40da",
   "metadata": {},
   "outputs": [],
   "source": [
    "colnames(df2) <- c(\"year\", \"domestic_play_number\", \"foreign_play_number\",\"category\")"
   ]
  },
  {
   "cell_type": "code",
   "execution_count": 55,
   "id": "97e59a06",
   "metadata": {},
   "outputs": [
    {
     "data": {
      "text/plain": [
       "      year      domestic_play_number foreign_play_number\n",
       " Min.   :2017   Min.   : 8.00        Min.   : 2.000     \n",
       " 1st Qu.:2018   1st Qu.:13.50        1st Qu.: 2.750     \n",
       " Median :2018   Median :14.00        Median : 7.000     \n",
       " Mean   :2018   Mean   :13.75        Mean   : 8.625     \n",
       " 3rd Qu.:2019   3rd Qu.:14.50        3rd Qu.:14.250     \n",
       " Max.   :2020   Max.   :18.00        Max.   :19.000     \n",
       "                category\n",
       " Çocuk              :4  \n",
       " Yetişkin Ve Müzikal:4  \n",
       "                        \n",
       "                        \n",
       "                        \n",
       "                        "
      ]
     },
     "metadata": {},
     "output_type": "display_data"
    }
   ],
   "source": [
    "summary(df2)"
   ]
  },
  {
   "cell_type": "markdown",
   "id": "92d48fa4",
   "metadata": {},
   "source": [
    "### Data visualization and Descriptive Stats"
   ]
  },
  {
   "cell_type": "code",
   "execution_count": 56,
   "id": "1122ddcb",
   "metadata": {},
   "outputs": [
    {
     "data": {
      "image/png": "[encoded data removed]",
      "text/plain": [
       "plot without title"
      ]
     },
     "metadata": {},
     "output_type": "display_data"
    }
   ],
   "source": [
    "ggplot(df2, aes(x=year, y=domestic_play_number, fill=year))+\n",
    "  geom_bar(stat = \"identity\") + \n",
    "  labs(title = \"Domestic Plays Year BarChart\", x=\"Year\", y=\"Number of Domestic Plays\")"
   ]
  },
  {
   "cell_type": "code",
   "execution_count": 57,
   "id": "cf1eb163",
   "metadata": {},
   "outputs": [
    {
     "data": {
      "image/png": "[encoded data removed]",
      "text/plain": [
       "plot without title"
      ]
     },
     "metadata": {},
     "output_type": "display_data"
    }
   ],
   "source": [
    "ggplot(df2, aes(x=year, y=foreign_play_number, fill=year))+\n",
    "  geom_bar(stat = \"identity\") + \n",
    "  labs(title = \"Foreign Plays Year BarChart\", x=\"Year\", y=\"Number of Foreign Plays\")"
   ]
  },
  {
   "cell_type": "code",
   "execution_count": 58,
   "id": "f2c4648d",
   "metadata": {},
   "outputs": [
    {
     "data": {
      "image/png": "[encoded data removed]",
      "text/plain": [
       "plot without title"
      ]
     },
     "metadata": {},
     "output_type": "display_data"
    }
   ],
   "source": [
    "df2$year <- as.factor(df2$year)\n",
    "\n",
    "ggplot(data=df2, aes(x=year, y=domestic_play_number, fill= year)) +\n",
    "  geom_boxplot() + \n",
    "  labs(title = \"Domestic plays number based on year Boxplot\", x = \"Year\", y=\"Number of Domestic Plays\") +\n",
    "  stat_summary(fun=mean, geom=\"point\", shape=4, size=2) +\n",
    "  theme(axis.text.x=element_text(angle=-45,hjust=0,vjust=0))"
   ]
  },
  {
   "cell_type": "code",
   "execution_count": 59,
   "id": "3fe30b69",
   "metadata": {},
   "outputs": [
    {
     "data": {
      "image/png": "[encoded data removed]",
      "text/plain": [
       "plot without title"
      ]
     },
     "metadata": {},
     "output_type": "display_data"
    }
   ],
   "source": [
    "df2$year <- as.factor(df2$year)\n",
    "\n",
    "ggplot(data=df2, aes(x=year, y=foreign_play_number, fill= year)) +\n",
    "  geom_boxplot() + \n",
    "  labs(title = \"Foreign play number based on year Boxplot\", x = \"Year\", y=\"Number of Foreign Plays\") +\n",
    "  stat_summary(fun=mean, geom=\"point\", shape=4, size=2) +\n",
    "  theme(axis.text.x=element_text(angle=-45,hjust=0,vjust=0))"
   ]
  },
  {
   "cell_type": "code",
   "execution_count": 60,
   "id": "dd5626bf",
   "metadata": {},
   "outputs": [
    {
     "data": {
      "image/png": "[encoded data removed]",
      "text/plain": [
       "plot without title"
      ]
     },
     "metadata": {},
     "output_type": "display_data"
    }
   ],
   "source": [
    "ggplot(df2, aes(x=category, y=domestic_play_number, fill=category))+\n",
    "  geom_bar(stat = \"identity\") + \n",
    "  labs(title = \"Domestic Plays Category BarChart\", x=\"Category\", y=\"Number of Domestic Plays\")"
   ]
  },
  {
   "cell_type": "code",
   "execution_count": 61,
   "id": "e6a23809",
   "metadata": {},
   "outputs": [
    {
     "data": {
      "image/png": "[encoded data removed]",
      "text/plain": [
       "plot without title"
      ]
     },
     "metadata": {},
     "output_type": "display_data"
    }
   ],
   "source": [
    "ggplot(df2, aes(x=category, y=foreign_play_number, fill=category))+\n",
    "  geom_bar(stat = \"identity\") + \n",
    "  labs(title = \"Foreign Plays Category BarChart\", x=\"Category\", y=\"Number of Foreign Plays\")"
   ]
  },
  {
   "cell_type": "code",
   "execution_count": 62,
   "id": "f071315f",
   "metadata": {},
   "outputs": [
    {
     "data": {
      "image/png": "[encoded data removed]",
      "text/plain": [
       "plot without title"
      ]
     },
     "metadata": {},
     "output_type": "display_data"
    }
   ],
   "source": [
    "df2$category <- as.factor(df2$category)\n",
    "\n",
    "ggplot(data=df2, aes(x=category, y=domestic_play_number, fill= category)) +\n",
    "  geom_boxplot() + \n",
    "  labs(title = \"Domestic play number based on category Boxplot\", x = \"Year\", y=\"Number of Domestic Plays\") +\n",
    "  stat_summary(fun=mean, geom=\"point\", shape=4, size=2) +\n",
    "  theme(axis.text.x=element_text(angle=-45,hjust=0,vjust=0))"
   ]
  },
  {
   "cell_type": "code",
   "execution_count": 63,
   "id": "48fc8c51",
   "metadata": {},
   "outputs": [
    {
     "data": {
      "image/png": "[encoded data removed]",
      "text/plain": [
       "plot without title"
      ]
     },
     "metadata": {},
     "output_type": "display_data"
    }
   ],
   "source": [
    "df2$category <- as.factor(df2$category)\n",
    "\n",
    "ggplot(data=df2, aes(x=category, y=foreign_play_number, fill= category)) +\n",
    "  geom_boxplot() + \n",
    "  labs(title = \"Foreign play number based on date Boxplot\", x = \"Year\", y=\"Number of Foreign Plays\") +\n",
    "  stat_summary(fun=mean, geom=\"point\", shape=4, size=2) +\n",
    "  theme(axis.text.x=element_text(angle=-45,hjust=0,vjust=0))"
   ]
  },
  {
   "cell_type": "code",
   "execution_count": 64,
   "id": "1d285089",
   "metadata": {},
   "outputs": [
    {
     "data": {
      "image/png": "[encoded data removed]",
      "text/plain": [
       "plot without title"
      ]
     },
     "metadata": {},
     "output_type": "display_data"
    }
   ],
   "source": [
    "qplot(fill = category, \n",
    "      x = foreign_play_number, \n",
    "      data = df2, \n",
    "      geom = \"density\",\n",
    "      alpha = I(0.5),\n",
    "      adjust = 2\n",
    "      )+labs( x = \"Foreign Play Number\") "
   ]
  },
  {
   "cell_type": "code",
   "execution_count": 65,
   "id": "d9b81166",
   "metadata": {},
   "outputs": [
    {
     "data": {
      "image/png": "[encoded data removed]",
      "text/plain": [
       "plot without title"
      ]
     },
     "metadata": {},
     "output_type": "display_data"
    }
   ],
   "source": [
    "qplot(fill = category, \n",
    "      x = domestic_play_number, \n",
    "      data = df2, \n",
    "      geom = \"density\",\n",
    "      alpha = I(0.5),\n",
    "      adjust = 2\n",
    "      )+labs( x = \"Domestic Play Number\")"
   ]
  },
  {
   "cell_type": "markdown",
   "id": "c299609e",
   "metadata": {},
   "source": [
    "### Confidence Interval"
   ]
  },
  {
   "cell_type": "markdown",
   "id": "eca34ef4",
   "metadata": {},
   "source": [
    "#### 1-) Confidence interval for foreign plays number evaluating the differences based on play category."
   ]
  },
  {
   "cell_type": "code",
   "execution_count": 66,
   "id": "2a90fc3b",
   "metadata": {},
   "outputs": [],
   "source": [
    "kid <- subset(df2, category == \"Çocuk\")\n",
    "adultandmusical <- subset(df2, category == \"Yetişkin Ve Müzikal\")"
   ]
  },
  {
   "cell_type": "code",
   "execution_count": 67,
   "id": "c11894b1",
   "metadata": {},
   "outputs": [
    {
     "data": {
      "text/html": [
       "<ol class=list-inline>\n",
       "\t<li>1.58130688448146</li>\n",
       "\t<li>3.41869311551854</li>\n",
       "</ol>\n"
      ],
      "text/latex": [
       "\\begin{enumerate*}\n",
       "\\item 1.58130688448146\n",
       "\\item 3.41869311551854\n",
       "\\end{enumerate*}\n"
      ],
      "text/markdown": [
       "1. 1.58130688448146\n",
       "2. 3.41869311551854\n",
       "\n",
       "\n"
      ],
      "text/plain": [
       "[1] 1.581307 3.418693\n",
       "attr(,\"conf.level\")\n",
       "[1] 0.95"
      ]
     },
     "metadata": {},
     "output_type": "display_data"
    }
   ],
   "source": [
    "x <- t.test(kid$foreign_play_number)$conf.int\n",
    "x"
   ]
  },
  {
   "cell_type": "markdown",
   "id": "4852a1f7",
   "metadata": {},
   "source": [
    "The true average of foreign plays number for kids is between 1.58 and 3.41 with 95% confidence."
   ]
  },
  {
   "cell_type": "code",
   "execution_count": 68,
   "id": "a6c51c0d",
   "metadata": {},
   "outputs": [
    {
     "data": {
      "text/html": [
       "<ol class=list-inline>\n",
       "\t<li>9.49253834284899</li>\n",
       "\t<li>20.007461657151</li>\n",
       "</ol>\n"
      ],
      "text/latex": [
       "\\begin{enumerate*}\n",
       "\\item 9.49253834284899\n",
       "\\item 20.007461657151\n",
       "\\end{enumerate*}\n"
      ],
      "text/markdown": [
       "1. 9.49253834284899\n",
       "2. 20.007461657151\n",
       "\n",
       "\n"
      ],
      "text/plain": [
       "[1]  9.492538 20.007462\n",
       "attr(,\"conf.level\")\n",
       "[1] 0.95"
      ]
     },
     "metadata": {},
     "output_type": "display_data"
    }
   ],
   "source": [
    "y <- t.test(adultandmusical$foreign_play_number)$conf.int\n",
    "y"
   ]
  },
  {
   "cell_type": "markdown",
   "id": "5ae99f2f",
   "metadata": {},
   "source": [
    "The true average of foreign plays number for adult ann musical is between 9.49 and 20.0 with 95% confidence."
   ]
  },
  {
   "cell_type": "code",
   "execution_count": 69,
   "id": "c25080f1",
   "metadata": {},
   "outputs": [
    {
     "data": {
      "image/png": "[encoded data removed]",
      "text/plain": [
       "plot without title"
      ]
     },
     "metadata": {},
     "output_type": "display_data"
    }
   ],
   "source": [
    "play.audience <- data.frame(Category =\"Çocuk\",\n",
    "                                mean=mean(kid$foreign_play_number), \n",
    "                                lower=x[1], \n",
    "                                upper=x[2])\n",
    "\n",
    "play.audience <- rbind(play.audience , data.frame(Category=\"Yetişkin ve Müzikal\",\n",
    "                                mean=mean(adultandmusical$foreign_play_number), \n",
    "                                lower=y[1], \n",
    "                                upper=y[2]))\n",
    "\n",
    "ggplot(play.audience, aes(x=Category, y=mean, fill=Category)) +\n",
    "  geom_bar(position=\"dodge\", stat=\"identity\", width = 0.3) +\n",
    "  geom_errorbar(aes(ymin=lower, ymax=upper),\n",
    "                width=.1, \n",
    "                position=position_dodge(0.1))"
   ]
  },
  {
   "cell_type": "markdown",
   "id": "b9c252b6",
   "metadata": {},
   "source": [
    "#### 2-) Confidence interval for domestic plays number evaluating the differences based on play category."
   ]
  },
  {
   "cell_type": "code",
   "execution_count": 70,
   "id": "6d72ca0e",
   "metadata": {},
   "outputs": [
    {
     "data": {
      "text/html": [
       "<ol class=list-inline>\n",
       "\t<li>7.49934127354363</li>\n",
       "\t<li>16.5006587264564</li>\n",
       "</ol>\n"
      ],
      "text/latex": [
       "\\begin{enumerate*}\n",
       "\\item 7.49934127354363\n",
       "\\item 16.5006587264564\n",
       "\\end{enumerate*}\n"
      ],
      "text/markdown": [
       "1. 7.49934127354363\n",
       "2. 16.5006587264564\n",
       "\n",
       "\n"
      ],
      "text/plain": [
       "[1]  7.499341 16.500659\n",
       "attr(,\"conf.level\")\n",
       "[1] 0.95"
      ]
     },
     "metadata": {},
     "output_type": "display_data"
    }
   ],
   "source": [
    "x <- t.test(kid$domestic_play_number)$conf.int\n",
    "x"
   ]
  },
  {
   "cell_type": "markdown",
   "id": "c8d955de",
   "metadata": {},
   "source": [
    "The true average of domestic plays number for kid is between 7.49 and 16.50 with 95% confidence"
   ]
  },
  {
   "cell_type": "code",
   "execution_count": 71,
   "id": "64392db8",
   "metadata": {},
   "outputs": [
    {
     "data": {
      "text/html": [
       "<ol class=list-inline>\n",
       "\t<li>12.4530396383424</li>\n",
       "\t<li>18.5469603616576</li>\n",
       "</ol>\n"
      ],
      "text/latex": [
       "\\begin{enumerate*}\n",
       "\\item 12.4530396383424\n",
       "\\item 18.5469603616576\n",
       "\\end{enumerate*}\n"
      ],
      "text/markdown": [
       "1. 12.4530396383424\n",
       "2. 18.5469603616576\n",
       "\n",
       "\n"
      ],
      "text/plain": [
       "[1] 12.45304 18.54696\n",
       "attr(,\"conf.level\")\n",
       "[1] 0.95"
      ]
     },
     "metadata": {},
     "output_type": "display_data"
    }
   ],
   "source": [
    "x <- t.test(adultandmusical$domestic_play_number)$conf.int\n",
    "x"
   ]
  },
  {
   "cell_type": "markdown",
   "id": "897c3174",
   "metadata": {},
   "source": [
    "The true average of foreign plays number for adult and musical is between 12.45 and 18.54 with 95% confidence"
   ]
  },
  {
   "cell_type": "code",
   "execution_count": 72,
   "id": "940576a5",
   "metadata": {},
   "outputs": [
    {
     "data": {
      "image/png": "[encoded data removed]",
      "text/plain": [
       "plot without title"
      ]
     },
     "metadata": {},
     "output_type": "display_data"
    }
   ],
   "source": [
    "play.audience <- data.frame(Category =\"Çocuk\",\n",
    "                                mean=mean(kid$domestic_play_number), \n",
    "                                lower=x[1], \n",
    "                                upper=x[2])\n",
    "\n",
    "play.audience <- rbind(play.audience , data.frame(Category=\"Yetişkin ve Müzikal\",\n",
    "                                mean=mean(adultandmusical$domestic_play_number), \n",
    "                                lower=y[1], \n",
    "                                upper=y[2]))\n",
    "\n",
    "ggplot(play.audience, aes(x=Category, y=mean, fill=Category)) +\n",
    "  geom_bar(position=\"dodge\", stat=\"identity\", width = 0.3) +\n",
    "  geom_errorbar(aes(ymin=lower, ymax=upper),\n",
    "                width=.1, \n",
    "                position=position_dodge(0.1))"
   ]
  },
  {
   "cell_type": "markdown",
   "id": "4eeda116",
   "metadata": {},
   "source": [
    "## Hypothesis testing"
   ]
  },
  {
   "cell_type": "markdown",
   "id": "c97969b0",
   "metadata": {},
   "source": [
    "### One Sample Test"
   ]
  },
  {
   "cell_type": "markdown",
   "id": "74a547a5",
   "metadata": {},
   "source": [
    "#### One sample hypothesis for foreign plays for kids is smaller than 3 and testing it with 95% confidence interval\n",
    "H0:μ = 3\n",
    "\n",
    "H1:μ > 3\n",
    "\n",
    "In order to assess normality of data, we can use qqplot and Shapiro test."
   ]
  },
  {
   "cell_type": "code",
   "execution_count": 73,
   "id": "2339994f",
   "metadata": {},
   "outputs": [
    {
     "data": {
      "text/plain": [
       "\n",
       "\tShapiro-Wilk normality test\n",
       "\n",
       "data:  kid$foreign_play_number\n",
       "W = 0.72863, p-value = 0.02386\n"
      ]
     },
     "metadata": {},
     "output_type": "display_data"
    }
   ],
   "source": [
    "shapiro.test(kid$foreign_play_number)"
   ]
  },
  {
   "cell_type": "markdown",
   "id": "04a39709",
   "metadata": {},
   "source": [
    "As the p-value < 0.05, the null hypothesis is rejected, so data is not normally distributed.\n",
    "\n",
    "Let’s visualize it using Q-Q Plot.\n",
    "\n"
   ]
  },
  {
   "cell_type": "code",
   "execution_count": 74,
   "id": "c1c95f26",
   "metadata": {},
   "outputs": [
    {
     "data": {
      "image/png": "[encoded data removed]",
      "text/plain": [
       "Plot with title \"Normal Q-Q Plot\""
      ]
     },
     "metadata": {},
     "output_type": "display_data"
    }
   ],
   "source": [
    "qqnorm(kid$foreign_play_number, ylab = \"Foreign Plays Number for Kids\")\n",
    "qqline(kid$foreign_play_number)"
   ]
  },
  {
   "cell_type": "markdown",
   "id": "31ae4336",
   "metadata": {},
   "source": [
    "Now we test the hypothesis;"
   ]
  },
  {
   "cell_type": "code",
   "execution_count": 75,
   "id": "97c6985e",
   "metadata": {},
   "outputs": [
    {
     "data": {
      "text/plain": [
       "\n",
       "\tOne Sample t-test\n",
       "\n",
       "data:  kid$foreign_play_number\n",
       "t = -1.7321, df = 3, p-value = 0.09085\n",
       "alternative hypothesis: true mean is less than 3\n",
       "95 percent confidence interval:\n",
       "     -Inf 3.179358\n",
       "sample estimates:\n",
       "mean of x \n",
       "      2.5 \n"
      ]
     },
     "metadata": {},
     "output_type": "display_data"
    }
   ],
   "source": [
    "t.test(kid$foreign_play_number, \n",
    "       alternative = \"less\", \n",
    "       mu=3, \n",
    "       conf.level = 0.95)"
   ]
  },
  {
   "cell_type": "markdown",
   "id": "bb91389e",
   "metadata": {},
   "source": [
    "To conclude, as p-value = 0.09 is greater than 0.05, the null hypothesis is not rejected. The confidence interval is between -infinity and 3.179358 with 95% confident."
   ]
  },
  {
   "cell_type": "markdown",
   "id": "02237cbe",
   "metadata": {},
   "source": [
    "### Two Sample Test"
   ]
  },
  {
   "cell_type": "markdown",
   "id": "10ef4b5f",
   "metadata": {},
   "source": [
    "#### 1-) Are there significant difference between mean of kid and adult&musical foreign plays number?\n",
    "Let’s check if the populations have the same variance."
   ]
  },
  {
   "cell_type": "code",
   "execution_count": 76,
   "id": "1e22c385",
   "metadata": {},
   "outputs": [
    {
     "data": {
      "text/plain": [
       "\n",
       "\tF test to compare two variances\n",
       "\n",
       "data:  x and y\n",
       "F = 0.030534, num df = 3, denom df = 3, p-value = 0.01716\n",
       "alternative hypothesis: true ratio of variances is not equal to 1\n",
       "95 percent confidence interval:\n",
       " 0.001977718 0.471425416\n",
       "sample estimates:\n",
       "ratio of variances \n",
       "        0.03053435 \n"
      ]
     },
     "metadata": {},
     "output_type": "display_data"
    }
   ],
   "source": [
    "x <- subset(df2, category==\"Çocuk\")$foreign_play_number\n",
    "y <- subset(df2, category==\"Yetişkin Ve Müzikal\")$foreign_play_number\n",
    "var.test(x, y)"
   ]
  },
  {
   "cell_type": "markdown",
   "id": "07fb4d50",
   "metadata": {},
   "source": [
    "As the p-value < 0.05, the null hypothesis is rejected, so data is not normally distributed."
   ]
  },
  {
   "cell_type": "code",
   "execution_count": 77,
   "id": "e1aba904",
   "metadata": {},
   "outputs": [
    {
     "data": {
      "text/plain": [
       "\n",
       "\tShapiro-Wilk normality test\n",
       "\n",
       "data:  adultandmusical$foreign_play_number\n",
       "W = 0.97973, p-value = 0.9004\n"
      ]
     },
     "metadata": {},
     "output_type": "display_data"
    }
   ],
   "source": [
    "shapiro.test(adultandmusical$foreign_play_number)"
   ]
  },
  {
   "cell_type": "markdown",
   "id": "55d81581",
   "metadata": {},
   "source": [
    "As the p-value > 0.05, the null hypothesis is not rejected, so data is normally distributed."
   ]
  },
  {
   "cell_type": "code",
   "execution_count": 78,
   "id": "2ad5facc",
   "metadata": {},
   "outputs": [
    {
     "data": {
      "text/plain": [
       "\n",
       "\tTwo Sample t-test\n",
       "\n",
       "data:  x and y\n",
       "t = -7.3045, df = 6, p-value = 0.0003358\n",
       "alternative hypothesis: true difference in means is not equal to 0\n",
       "95 percent confidence interval:\n",
       " -16.353596  -8.146404\n",
       "sample estimates:\n",
       "mean of x mean of y \n",
       "     2.50     14.75 \n"
      ]
     },
     "metadata": {},
     "output_type": "display_data"
    }
   ],
   "source": [
    "t.test(x=x, y=y, alternative = \"two.sided\", var.equal = TRUE,\n",
    "       conf.level = 0.95)"
   ]
  },
  {
   "cell_type": "markdown",
   "id": "1f1403c6",
   "metadata": {},
   "source": [
    "To conclude, as p-value < 0.05, the null hypothesis is rejected. We can conclude that there is statistically significant difference between musical&adult and kid foreign plays number.\n",
    "\n",
    "#### 2-) Are there significant difference between mean of kid and adult&musical domestic plays number?\n",
    "Let’s check if the populations have the same variance"
   ]
  },
  {
   "cell_type": "code",
   "execution_count": 79,
   "id": "70196005",
   "metadata": {},
   "outputs": [
    {
     "data": {
      "text/plain": [
       "\n",
       "\tF test to compare two variances\n",
       "\n",
       "data:  x and y\n",
       "F = 2.1818, num df = 3, denom df = 3, p-value = 0.5382\n",
       "alternative hypothesis: true ratio of variances is not equal to 1\n",
       "95 percent confidence interval:\n",
       "  0.141317 33.685489\n",
       "sample estimates:\n",
       "ratio of variances \n",
       "          2.181818 \n"
      ]
     },
     "metadata": {},
     "output_type": "display_data"
    }
   ],
   "source": [
    "x <- subset(df2, category==\"Çocuk\")$domestic_play_number\n",
    "y <- subset(df2, category==\"Yetişkin Ve Müzikal\")$domestic_play_number\n",
    "var.test(x, y)"
   ]
  },
  {
   "cell_type": "markdown",
   "id": "b8284732",
   "metadata": {},
   "source": [
    "As p-value > 0.05, the null hypothesis is not rejected.\n",
    "\n",
    "In order to assess normality of data, we can use shapiro test."
   ]
  },
  {
   "cell_type": "code",
   "execution_count": 80,
   "id": "1c4ba21c",
   "metadata": {},
   "outputs": [
    {
     "data": {
      "text/plain": [
       "\n",
       "\tShapiro-Wilk normality test\n",
       "\n",
       "data:  adultandmusical$domestic_play_number\n",
       "W = 0.86337, p-value = 0.2725\n"
      ]
     },
     "metadata": {},
     "output_type": "display_data"
    }
   ],
   "source": [
    "shapiro.test(adultandmusical$domestic_play_number)"
   ]
  },
  {
   "cell_type": "markdown",
   "id": "b48f2735",
   "metadata": {},
   "source": [
    "As the p-value > 0.05, the null hypothesis is not rejected, so data is normally distributed."
   ]
  },
  {
   "cell_type": "code",
   "execution_count": 81,
   "id": "30f4fbaa",
   "metadata": {},
   "outputs": [
    {
     "data": {
      "text/plain": [
       "\n",
       "\tShapiro-Wilk normality test\n",
       "\n",
       "data:  kid$domestic_play_number\n",
       "W = 0.82743, p-value = 0.1612\n"
      ]
     },
     "metadata": {},
     "output_type": "display_data"
    }
   ],
   "source": [
    "shapiro.test(kid$domestic_play_number)"
   ]
  },
  {
   "cell_type": "markdown",
   "id": "fc73c6e9",
   "metadata": {},
   "source": [
    "As the p-value > 0.05, the null hypothesis is not rejected, so data is normally distributed"
   ]
  },
  {
   "cell_type": "code",
   "execution_count": 82,
   "id": "10cbc1c2",
   "metadata": {},
   "outputs": [
    {
     "data": {
      "text/plain": [
       "\n",
       "\tTwo Sample t-test\n",
       "\n",
       "data:  x and y\n",
       "t = -2.0494, df = 6, p-value = 0.08631\n",
       "alternative hypothesis: true difference in means is not equal to 0\n",
       "95 percent confidence interval:\n",
       " -7.6788975  0.6788975\n",
       "sample estimates:\n",
       "mean of x mean of y \n",
       "     12.0      15.5 \n"
      ]
     },
     "metadata": {},
     "output_type": "display_data"
    }
   ],
   "source": [
    "t.test(x=x, y=y, alternative = \"two.sided\", var.equal = TRUE,\n",
    "       conf.level = 0.95)"
   ]
  },
  {
   "cell_type": "markdown",
   "id": "83c6fdc5",
   "metadata": {},
   "source": [
    "To conclude, as p-value > 0.05, the null hypothesis is not rejected. We can conclude that there is not statistically significant difference between musical&adult and kid domestic plays number."
   ]
  },
  {
   "cell_type": "markdown",
   "id": "f454f0f3",
   "metadata": {},
   "source": [
    "### ANOVA"
   ]
  },
  {
   "cell_type": "markdown",
   "id": "30d48c24",
   "metadata": {},
   "source": [
    "#### Are there significant difference between mean of number of foreign play for different play category?"
   ]
  },
  {
   "cell_type": "code",
   "execution_count": 83,
   "id": "c0647053",
   "metadata": {},
   "outputs": [
    {
     "data": {
      "text/html": [
       "<table>\n",
       "<thead><tr><th scope=col>domestic_play_number</th><th scope=col>category</th></tr></thead>\n",
       "<tbody>\n",
       "\t<tr><td>14                 </td><td>Yetişkin Ve Müzikal</td></tr>\n",
       "\t<tr><td>18                 </td><td>Yetişkin Ve Müzikal</td></tr>\n",
       "\t<tr><td>16                 </td><td>Yetişkin Ve Müzikal</td></tr>\n",
       "\t<tr><td>14                 </td><td>Yetişkin Ve Müzikal</td></tr>\n",
       "\t<tr><td> 8                 </td><td>Çocuk              </td></tr>\n",
       "\t<tr><td>14                 </td><td>Çocuk              </td></tr>\n",
       "</tbody>\n",
       "</table>\n"
      ],
      "text/latex": [
       "\\begin{tabular}{r|ll}\n",
       " domestic\\_play\\_number & category\\\\\n",
       "\\hline\n",
       "\t 14                  & Yetişkin Ve Müzikal\\\\\n",
       "\t 18                  & Yetişkin Ve Müzikal\\\\\n",
       "\t 16                  & Yetişkin Ve Müzikal\\\\\n",
       "\t 14                  & Yetişkin Ve Müzikal\\\\\n",
       "\t  8                  & Çocuk              \\\\\n",
       "\t 14                  & Çocuk              \\\\\n",
       "\\end{tabular}\n"
      ],
      "text/markdown": [
       "\n",
       "| domestic_play_number | category |\n",
       "|---|---|\n",
       "| 14                  | Yetişkin Ve Müzikal |\n",
       "| 18                  | Yetişkin Ve Müzikal |\n",
       "| 16                  | Yetişkin Ve Müzikal |\n",
       "| 14                  | Yetişkin Ve Müzikal |\n",
       "|  8                  | Çocuk               |\n",
       "| 14                  | Çocuk               |\n",
       "\n"
      ],
      "text/plain": [
       "  domestic_play_number category           \n",
       "1 14                   Yetişkin Ve Müzikal\n",
       "2 18                   Yetişkin Ve Müzikal\n",
       "3 16                   Yetişkin Ve Müzikal\n",
       "4 14                   Yetişkin Ve Müzikal\n",
       "5  8                   Çocuk              \n",
       "6 14                   Çocuk              "
      ]
     },
     "metadata": {},
     "output_type": "display_data"
    }
   ],
   "source": [
    "data2 <- df2[, c(2, 4)]\n",
    "names(data2) <- c( \"domestic_play_number\",\"category\")\n",
    "head(data2)"
   ]
  },
  {
   "cell_type": "code",
   "execution_count": 84,
   "id": "c8d8ed67",
   "metadata": {},
   "outputs": [
    {
     "data": {
      "text/html": [
       "<ol class=list-inline>\n",
       "\t<li>'Çocuk'</li>\n",
       "\t<li>'Yetişkin Ve Müzikal'</li>\n",
       "</ol>\n"
      ],
      "text/latex": [
       "\\begin{enumerate*}\n",
       "\\item 'Çocuk'\n",
       "\\item 'Yetişkin Ve Müzikal'\n",
       "\\end{enumerate*}\n"
      ],
      "text/markdown": [
       "1. 'Çocuk'\n",
       "2. 'Yetişkin Ve Müzikal'\n",
       "\n",
       "\n"
      ],
      "text/plain": [
       "[1] \"Çocuk\"               \"Yetişkin Ve Müzikal\""
      ]
     },
     "metadata": {},
     "output_type": "display_data"
    }
   ],
   "source": [
    "levels(data2$category)"
   ]
  },
  {
   "cell_type": "code",
   "execution_count": 85,
   "id": "6685d714",
   "metadata": {},
   "outputs": [
    {
     "data": {
      "text/html": [
       "<table>\n",
       "<thead><tr><th scope=col>category</th><th scope=col>count</th><th scope=col>mean</th><th scope=col>sd</th></tr></thead>\n",
       "<tbody>\n",
       "\t<tr><td>Çocuk              </td><td>4                  </td><td>12.0               </td><td>2.828427           </td></tr>\n",
       "\t<tr><td>Yetişkin Ve Müzikal</td><td>4                  </td><td>15.5               </td><td>1.914854           </td></tr>\n",
       "</tbody>\n",
       "</table>\n"
      ],
      "text/latex": [
       "\\begin{tabular}{r|llll}\n",
       " category & count & mean & sd\\\\\n",
       "\\hline\n",
       "\t Çocuk               & 4                   & 12.0                & 2.828427           \\\\\n",
       "\t Yetişkin Ve Müzikal & 4                   & 15.5                & 1.914854           \\\\\n",
       "\\end{tabular}\n"
      ],
      "text/markdown": [
       "\n",
       "| category | count | mean | sd |\n",
       "|---|---|---|---|\n",
       "| Çocuk               | 4                   | 12.0                | 2.828427            |\n",
       "| Yetişkin Ve Müzikal | 4                   | 15.5                | 1.914854            |\n",
       "\n"
      ],
      "text/plain": [
       "  category            count mean sd      \n",
       "1 Çocuk               4     12.0 2.828427\n",
       "2 Yetişkin Ve Müzikal 4     15.5 1.914854"
      ]
     },
     "metadata": {},
     "output_type": "display_data"
    }
   ],
   "source": [
    "group_by(data2, category) %>%\n",
    "  summarise(\n",
    "    count = n(),\n",
    "    mean = mean(domestic_play_number, na.rm = TRUE),\n",
    "    sd = sd(domestic_play_number, na.rm = TRUE)\n",
    "  )"
   ]
  },
  {
   "cell_type": "markdown",
   "id": "4b78e6f2",
   "metadata": {},
   "source": [
    "##### Hypothesis:\n",
    "H0: μ1=μ2\n",
    "\n",
    "H1: μ1!=μ2\n",
    "\n",
    "##### Visualization"
   ]
  },
  {
   "cell_type": "code",
   "execution_count": 86,
   "id": "eebf5d3a",
   "metadata": {},
   "outputs": [
    {
     "data": {
      "image/png": "[encoded data removed]",
      "text/plain": [
       "plot without title"
      ]
     },
     "metadata": {},
     "output_type": "display_data"
    }
   ],
   "source": [
    "ggplot(data=data2, aes(x=category, y=domestic_play_number, fill= category)) +\n",
    "  geom_boxplot() + \n",
    "  labs(title = \"Domestic play number based on play categories Boxplot\", x = \"Categories\", y=\"Domestic Play number\") +\n",
    "  stat_summary(fun=mean, geom=\"point\", shape=4, size=2) +\n",
    "  theme(axis.text.x=element_text(angle=-45,hjust=0,vjust=0))"
   ]
  },
  {
   "cell_type": "markdown",
   "id": "ca71f65f",
   "metadata": {},
   "source": [
    "##### Normality Assumption\n",
    "We will check normality assumption by Shapiro-test."
   ]
  },
  {
   "cell_type": "code",
   "execution_count": 87,
   "id": "fbd28059",
   "metadata": {},
   "outputs": [
    {
     "data": {
      "text/plain": [
       "\n",
       "\tShapiro-Wilk normality test\n",
       "\n",
       "data:  data2[data2$category == \"Çocuk\", 1]\n",
       "W = 0.82743, p-value = 0.1612\n"
      ]
     },
     "metadata": {},
     "output_type": "display_data"
    }
   ],
   "source": [
    "shapiro.test(data2[data2$category==\"Çocuk\", 1])"
   ]
  },
  {
   "cell_type": "code",
   "execution_count": 88,
   "id": "b4ea4885",
   "metadata": {},
   "outputs": [
    {
     "data": {
      "text/plain": [
       "\n",
       "\tShapiro-Wilk normality test\n",
       "\n",
       "data:  data2[data2$category == \"Yetişkin Ve Müzikal\", 1]\n",
       "W = 0.86337, p-value = 0.2725\n"
      ]
     },
     "metadata": {},
     "output_type": "display_data"
    }
   ],
   "source": [
    "shapiro.test(data2[data2$category==\"Yetişkin Ve Müzikal\", 1])"
   ]
  },
  {
   "cell_type": "markdown",
   "id": "6c54c7a8",
   "metadata": {},
   "source": [
    "##### Variance homogeneity"
   ]
  },
  {
   "cell_type": "code",
   "execution_count": 89,
   "id": "0a5c7492",
   "metadata": {},
   "outputs": [
    {
     "data": {
      "text/plain": [
       "\n",
       "\tBartlett test of homogeneity of variances\n",
       "\n",
       "data:  domestic_play_number by category\n",
       "Bartlett's K-squared = 0.38174, df = 1, p-value = 0.5367\n"
      ]
     },
     "metadata": {},
     "output_type": "display_data"
    }
   ],
   "source": [
    "bartlett.test(domestic_play_number~category, data=data2)"
   ]
  },
  {
   "cell_type": "markdown",
   "id": "d2bea0dc",
   "metadata": {},
   "source": [
    "Based on output of barlett-test, p-value > 0.05 So, the null hypothesis is not rejected and variances are equal."
   ]
  },
  {
   "cell_type": "markdown",
   "id": "990eb2cc",
   "metadata": {},
   "source": [
    "#### Analysis of variance"
   ]
  },
  {
   "cell_type": "code",
   "execution_count": 90,
   "id": "dba1378f",
   "metadata": {},
   "outputs": [
    {
     "data": {
      "text/plain": [
       "            Df Sum Sq Mean Sq F value Pr(>F)  \n",
       "category     1   24.5  24.500     4.2 0.0863 .\n",
       "Residuals    6   35.0   5.833                 \n",
       "---\n",
       "Signif. codes:  0 '***' 0.001 '**' 0.01 '*' 0.05 '.' 0.1 ' ' 1"
      ]
     },
     "metadata": {},
     "output_type": "display_data"
    }
   ],
   "source": [
    "model<-aov(domestic_play_number~category, data=data2)\n",
    "summary(model)"
   ]
  },
  {
   "cell_type": "markdown",
   "id": "62744c28",
   "metadata": {},
   "source": [
    "The p-value > 0.05, we can conclude that there is not significant differences between the categories plays audience number."
   ]
  },
  {
   "cell_type": "markdown",
   "id": "c5b7bdd1",
   "metadata": {},
   "source": [
    "## Part 3 (Third Dataset)"
   ]
  },
  {
   "cell_type": "markdown",
   "id": "0ffebe55",
   "metadata": {},
   "source": [
    "### Data Exploration & Preprocessing"
   ]
  },
  {
   "cell_type": "code",
   "execution_count": 147,
   "id": "291f62f2",
   "metadata": {},
   "outputs": [
    {
     "data": {
      "text/html": [
       "<table>\n",
       "<thead><tr><th scope=col>Repertuvar</th><th scope=col>Kategori</th><th scope=col>Oyun.Adı</th><th scope=col>Toplam.Adet</th><th scope=col>Seans.Sayısı</th><th scope=col>Doluluk.Oranı....</th></tr></thead>\n",
       "<tbody>\n",
       "\t<tr><td>YERLİ OYUN                          </td><td>NORMAL OYUNLAR                      </td><td>AY IŞIĞINDA ŞAMATA                  </td><td>27.107                              </td><td>57                                  </td><td>93                                  </td></tr>\n",
       "\t<tr><td>YERLİ OYUN                          </td><td>NORMAL OYUNLAR                      </td><td>FEHİM PAŞA KONAĞI                   </td><td> 5.801                              </td><td>10                                  </td><td>96                                  </td></tr>\n",
       "\t<tr><td>YERLİ OYUN                          </td><td>NORMAL OYUNLAR                      </td><td>GEÇ KALANLAR                        </td><td>26.497                              </td><td>97                                  </td><td>88                                  </td></tr>\n",
       "\t<tr><td>YERLİ OYUN                          </td><td>NORMAL OYUNLAR                      </td><td>HAYAL-İ TEMSİL                      </td><td>30.482                              </td><td>89                                  </td><td>88                                  </td></tr>\n",
       "\t<tr><td>YERLİ OYUN                          </td><td>NORMAL OYUNLAR                      </td><td>HİSSE-İ ŞAYİA (BİR EVLİLİK KOMEDİSİ)</td><td>38.661                              </td><td>98                                  </td><td>95                                  </td></tr>\n",
       "\t<tr><td>YERLİ OYUN                          </td><td>NORMAL OYUNLAR                      </td><td>SON                                 </td><td>19.271                              </td><td>62                                  </td><td>91                                  </td></tr>\n",
       "</tbody>\n",
       "</table>\n"
      ],
      "text/latex": [
       "\\begin{tabular}{r|llllll}\n",
       " Repertuvar & Kategori & Oyun.Adı & Toplam.Adet & Seans.Sayısı & Doluluk.Oranı....\\\\\n",
       "\\hline\n",
       "\t YERLİ OYUN                           & NORMAL OYUNLAR                       & AY IŞIĞINDA ŞAMATA                   & 27.107                               & 57                                   & 93                                  \\\\\n",
       "\t YERLİ OYUN                           & NORMAL OYUNLAR                       & FEHİM PAŞA KONAĞI                    &  5.801                               & 10                                   & 96                                  \\\\\n",
       "\t YERLİ OYUN                           & NORMAL OYUNLAR                       & GEÇ KALANLAR                         & 26.497                               & 97                                   & 88                                  \\\\\n",
       "\t YERLİ OYUN                           & NORMAL OYUNLAR                       & HAYAL-İ TEMSİL                       & 30.482                               & 89                                   & 88                                  \\\\\n",
       "\t YERLİ OYUN                           & NORMAL OYUNLAR                       & HİSSE-İ ŞAYİA (BİR EVLİLİK KOMEDİSİ) & 38.661                               & 98                                   & 95                                  \\\\\n",
       "\t YERLİ OYUN                           & NORMAL OYUNLAR                       & SON                                  & 19.271                               & 62                                   & 91                                  \\\\\n",
       "\\end{tabular}\n"
      ],
      "text/markdown": [
       "\n",
       "| Repertuvar | Kategori | Oyun.Adı | Toplam.Adet | Seans.Sayısı | Doluluk.Oranı.... |\n",
       "|---|---|---|---|---|---|\n",
       "| YERLİ OYUN                           | NORMAL OYUNLAR                       | AY IŞIĞINDA ŞAMATA                   | 27.107                               | 57                                   | 93                                   |\n",
       "| YERLİ OYUN                           | NORMAL OYUNLAR                       | FEHİM PAŞA KONAĞI                    |  5.801                               | 10                                   | 96                                   |\n",
       "| YERLİ OYUN                           | NORMAL OYUNLAR                       | GEÇ KALANLAR                         | 26.497                               | 97                                   | 88                                   |\n",
       "| YERLİ OYUN                           | NORMAL OYUNLAR                       | HAYAL-İ TEMSİL                       | 30.482                               | 89                                   | 88                                   |\n",
       "| YERLİ OYUN                           | NORMAL OYUNLAR                       | HİSSE-İ ŞAYİA (BİR EVLİLİK KOMEDİSİ) | 38.661                               | 98                                   | 95                                   |\n",
       "| YERLİ OYUN                           | NORMAL OYUNLAR                       | SON                                  | 19.271                               | 62                                   | 91                                   |\n",
       "\n"
      ],
      "text/plain": [
       "  Repertuvar Kategori       Oyun.Adı                             Toplam.Adet\n",
       "1 YERLİ OYUN NORMAL OYUNLAR AY IŞIĞINDA ŞAMATA                   27.107     \n",
       "2 YERLİ OYUN NORMAL OYUNLAR FEHİM PAŞA KONAĞI                     5.801     \n",
       "3 YERLİ OYUN NORMAL OYUNLAR GEÇ KALANLAR                         26.497     \n",
       "4 YERLİ OYUN NORMAL OYUNLAR HAYAL-İ TEMSİL                       30.482     \n",
       "5 YERLİ OYUN NORMAL OYUNLAR HİSSE-İ ŞAYİA (BİR EVLİLİK KOMEDİSİ) 38.661     \n",
       "6 YERLİ OYUN NORMAL OYUNLAR SON                                  19.271     \n",
       "  Seans.Sayısı Doluluk.Oranı....\n",
       "1 57           93               \n",
       "2 10           96               \n",
       "3 97           88               \n",
       "4 89           88               \n",
       "5 98           95               \n",
       "6 62           91               "
      ]
     },
     "metadata": {},
     "output_type": "display_data"
    }
   ],
   "source": [
    "head(df3)"
   ]
  },
  {
   "cell_type": "markdown",
   "id": "8ed943c1",
   "metadata": {},
   "source": [
    "The third dataset consists of 6 columns. These are the type, category, name of the play, the number of tickets sold, the number of staging of the play and the occupancy rate of the theater."
   ]
  },
  {
   "cell_type": "code",
   "execution_count": 148,
   "id": "3d41bbc5",
   "metadata": {},
   "outputs": [],
   "source": [
    "colnames(df3) <- c(\"type\", \"category\", \"name\",\"ticket_number\",\"session_number\",\"theater_occupancy_rate\")"
   ]
  },
  {
   "cell_type": "code",
   "execution_count": 149,
   "id": "6cd2e257",
   "metadata": {},
   "outputs": [],
   "source": [
    "df3 <- transform(df3, category = as.factor(mapvalues(category, c(\"ÇOCUK OYUNU\",\"MÜZİKAL OYUNLAR\",\"NORMAL OYUNLAR\"), c(\"ÇOCUK\",\"MÜZİKAL\",\"YETİŞKİN\"))))"
   ]
  },
  {
   "cell_type": "code",
   "execution_count": 150,
   "id": "813e1515",
   "metadata": {},
   "outputs": [],
   "source": [
    "df3 <- transform(df3, type = as.factor(mapvalues(type, c(\"YABANCI OYUN\",\"YERLİ OYUN\"), c(\"YABANCI\",\"YERLİ\"))))"
   ]
  },
  {
   "cell_type": "code",
   "execution_count": 151,
   "id": "47f8b9ab",
   "metadata": {},
   "outputs": [
    {
     "data": {
      "text/html": [
       "<table>\n",
       "<thead><tr><th scope=col>type</th><th scope=col>category</th><th scope=col>name</th><th scope=col>ticket_number</th><th scope=col>session_number</th><th scope=col>theater_occupancy_rate</th></tr></thead>\n",
       "<tbody>\n",
       "\t<tr><td>YERLİ                               </td><td>YETİŞKİN                            </td><td>AY IŞIĞINDA ŞAMATA                  </td><td>27.107                              </td><td>57                                  </td><td>93                                  </td></tr>\n",
       "\t<tr><td>YERLİ                               </td><td>YETİŞKİN                            </td><td>FEHİM PAŞA KONAĞI                   </td><td> 5.801                              </td><td>10                                  </td><td>96                                  </td></tr>\n",
       "\t<tr><td>YERLİ                               </td><td>YETİŞKİN                            </td><td>GEÇ KALANLAR                        </td><td>26.497                              </td><td>97                                  </td><td>88                                  </td></tr>\n",
       "\t<tr><td>YERLİ                               </td><td>YETİŞKİN                            </td><td>HAYAL-İ TEMSİL                      </td><td>30.482                              </td><td>89                                  </td><td>88                                  </td></tr>\n",
       "\t<tr><td>YERLİ                               </td><td>YETİŞKİN                            </td><td>HİSSE-İ ŞAYİA (BİR EVLİLİK KOMEDİSİ)</td><td>38.661                              </td><td>98                                  </td><td>95                                  </td></tr>\n",
       "\t<tr><td>YERLİ                               </td><td>YETİŞKİN                            </td><td>SON                                 </td><td>19.271                              </td><td>62                                  </td><td>91                                  </td></tr>\n",
       "</tbody>\n",
       "</table>\n"
      ],
      "text/latex": [
       "\\begin{tabular}{r|llllll}\n",
       " type & category & name & ticket\\_number & session\\_number & theater\\_occupancy\\_rate\\\\\n",
       "\\hline\n",
       "\t YERLİ                                & YETİŞKİN                             & AY IŞIĞINDA ŞAMATA                   & 27.107                               & 57                                   & 93                                  \\\\\n",
       "\t YERLİ                                & YETİŞKİN                             & FEHİM PAŞA KONAĞI                    &  5.801                               & 10                                   & 96                                  \\\\\n",
       "\t YERLİ                                & YETİŞKİN                             & GEÇ KALANLAR                         & 26.497                               & 97                                   & 88                                  \\\\\n",
       "\t YERLİ                                & YETİŞKİN                             & HAYAL-İ TEMSİL                       & 30.482                               & 89                                   & 88                                  \\\\\n",
       "\t YERLİ                                & YETİŞKİN                             & HİSSE-İ ŞAYİA (BİR EVLİLİK KOMEDİSİ) & 38.661                               & 98                                   & 95                                  \\\\\n",
       "\t YERLİ                                & YETİŞKİN                             & SON                                  & 19.271                               & 62                                   & 91                                  \\\\\n",
       "\\end{tabular}\n"
      ],
      "text/markdown": [
       "\n",
       "| type | category | name | ticket_number | session_number | theater_occupancy_rate |\n",
       "|---|---|---|---|---|---|\n",
       "| YERLİ                                | YETİŞKİN                             | AY IŞIĞINDA ŞAMATA                   | 27.107                               | 57                                   | 93                                   |\n",
       "| YERLİ                                | YETİŞKİN                             | FEHİM PAŞA KONAĞI                    |  5.801                               | 10                                   | 96                                   |\n",
       "| YERLİ                                | YETİŞKİN                             | GEÇ KALANLAR                         | 26.497                               | 97                                   | 88                                   |\n",
       "| YERLİ                                | YETİŞKİN                             | HAYAL-İ TEMSİL                       | 30.482                               | 89                                   | 88                                   |\n",
       "| YERLİ                                | YETİŞKİN                             | HİSSE-İ ŞAYİA (BİR EVLİLİK KOMEDİSİ) | 38.661                               | 98                                   | 95                                   |\n",
       "| YERLİ                                | YETİŞKİN                             | SON                                  | 19.271                               | 62                                   | 91                                   |\n",
       "\n"
      ],
      "text/plain": [
       "  type  category name                                 ticket_number\n",
       "1 YERLİ YETİŞKİN AY IŞIĞINDA ŞAMATA                   27.107       \n",
       "2 YERLİ YETİŞKİN FEHİM PAŞA KONAĞI                     5.801       \n",
       "3 YERLİ YETİŞKİN GEÇ KALANLAR                         26.497       \n",
       "4 YERLİ YETİŞKİN HAYAL-İ TEMSİL                       30.482       \n",
       "5 YERLİ YETİŞKİN HİSSE-İ ŞAYİA (BİR EVLİLİK KOMEDİSİ) 38.661       \n",
       "6 YERLİ YETİŞKİN SON                                  19.271       \n",
       "  session_number theater_occupancy_rate\n",
       "1 57             93                    \n",
       "2 10             96                    \n",
       "3 97             88                    \n",
       "4 89             88                    \n",
       "5 98             95                    \n",
       "6 62             91                    "
      ]
     },
     "metadata": {},
     "output_type": "display_data"
    }
   ],
   "source": [
    "head(df3)"
   ]
  },
  {
   "cell_type": "code",
   "execution_count": 152,
   "id": "41a601b7",
   "metadata": {},
   "outputs": [
    {
     "data": {
      "text/plain": [
       "      type        category                           name    ticket_number    \n",
       " YABANCI:21   ÇOCUK   :20   12. GECE                   : 1   Min.   :  1.589  \n",
       " YERLİ  :46   MÜZİKAL : 7   ALAADDİN'İN SİHİRLİ LAMBASI: 1   1st Qu.:  8.414  \n",
       "              YETİŞKİN:40   AMANVERMEZ AVNİ            : 1   Median : 19.551  \n",
       "                            AŞK BİR ZAMANLAR (GAZALE)  : 1   Mean   : 34.554  \n",
       "                            AY IŞIĞINDA ŞAMATA         : 1   3rd Qu.: 30.275  \n",
       "                            AY, CARMELA!               : 1   Max.   :932.000  \n",
       "                            (Other)                    :61                    \n",
       " session_number   theater_occupancy_rate\n",
       " Min.   :  3.00   Min.   : 53.00        \n",
       " 1st Qu.: 20.00   1st Qu.: 80.50        \n",
       " Median : 62.00   Median : 89.00        \n",
       " Mean   : 59.99   Mean   : 86.81        \n",
       " 3rd Qu.: 84.50   3rd Qu.: 94.50        \n",
       " Max.   :167.00   Max.   :108.00        \n",
       "                                        "
      ]
     },
     "metadata": {},
     "output_type": "display_data"
    }
   ],
   "source": [
    "summary(df3)"
   ]
  },
  {
   "cell_type": "markdown",
   "id": "510920b1",
   "metadata": {},
   "source": [
    "### Data visualization and Descriptive Stats"
   ]
  },
  {
   "cell_type": "code",
   "execution_count": 153,
   "id": "af615fd7",
   "metadata": {},
   "outputs": [
    {
     "data": {
      "text/html": [
       "<dl class=dl-horizontal>\n",
       "\t<dt>YABANCI</dt>\n",
       "\t\t<dd>21</dd>\n",
       "\t<dt>YERLİ</dt>\n",
       "\t\t<dd>46</dd>\n",
       "</dl>\n"
      ],
      "text/latex": [
       "\\begin{description*}\n",
       "\\item[YABANCI] 21\n",
       "\\item[YERLİ] 46\n",
       "\\end{description*}\n"
      ],
      "text/markdown": [
       "YABANCI\n",
       ":   21YERLİ\n",
       ":   46\n",
       "\n"
      ],
      "text/plain": [
       "YABANCI   YERLİ \n",
       "     21      46 "
      ]
     },
     "metadata": {},
     "output_type": "display_data"
    }
   ],
   "source": [
    "summary(df3$type)"
   ]
  },
  {
   "cell_type": "code",
   "execution_count": 154,
   "id": "63cfb44d",
   "metadata": {},
   "outputs": [
    {
     "data": {
      "text/html": [
       "<dl class=dl-horizontal>\n",
       "\t<dt>ÇOCUK</dt>\n",
       "\t\t<dd>20</dd>\n",
       "\t<dt>MÜZİKAL</dt>\n",
       "\t\t<dd>7</dd>\n",
       "\t<dt>YETİŞKİN</dt>\n",
       "\t\t<dd>40</dd>\n",
       "</dl>\n"
      ],
      "text/latex": [
       "\\begin{description*}\n",
       "\\item[ÇOCUK] 20\n",
       "\\item[MÜZİKAL] 7\n",
       "\\item[YETİŞKİN] 40\n",
       "\\end{description*}\n"
      ],
      "text/markdown": [
       "ÇOCUK\n",
       ":   20MÜZİKAL\n",
       ":   7YETİŞKİN\n",
       ":   40\n",
       "\n"
      ],
      "text/plain": [
       "   ÇOCUK  MÜZİKAL YETİŞKİN \n",
       "      20        7       40 "
      ]
     },
     "metadata": {},
     "output_type": "display_data"
    }
   ],
   "source": [
    "summary(df3$category)"
   ]
  },
  {
   "cell_type": "code",
   "execution_count": 202,
   "id": "1a9f498b",
   "metadata": {},
   "outputs": [
    {
     "data": {
      "image/png": "[encoded data removed]",
      "text/plain": [
       "plot without title"
      ]
     },
     "metadata": {},
     "output_type": "display_data"
    }
   ],
   "source": [
    "ggplot(data=df3, aes(x=type))+\n",
    "  geom_bar(fill=\"#bee1e6\")+\n",
    "  labs(title = \"Play Type Count\", x=\"Play Category\", y=\"Count\")"
   ]
  },
  {
   "cell_type": "code",
   "execution_count": 203,
   "id": "e91e7497",
   "metadata": {},
   "outputs": [
    {
     "data": {
      "image/png": "[encoded data removed]",
      "text/plain": [
       "plot without title"
      ]
     },
     "metadata": {},
     "output_type": "display_data"
    }
   ],
   "source": [
    "ggplot(data=df3, aes(x=category))+\n",
    "  geom_bar(fill=\"#bee1e6\")+\n",
    "  labs(title = \"Play Category Count\", x=\"Play Category\", y=\"Count\")"
   ]
  },
  {
   "cell_type": "code",
   "execution_count": 157,
   "id": "a368c635",
   "metadata": {},
   "outputs": [
    {
     "data": {
      "image/png": "[encoded data removed]",
      "text/plain": [
       "plot without title"
      ]
     },
     "metadata": {},
     "output_type": "display_data"
    }
   ],
   "source": [
    "df3$type <- as.factor(df3$type)\n",
    "\n",
    "ggplot(data=df3, aes(x=type, y=theater_occupancy_rate, fill= type)) +\n",
    "  geom_boxplot() + \n",
    "  labs(title = \"Theater occupancy rate type Boxplot\", x = \"Play Type\", y=\"Theatre occupancy rate (%)\") +\n",
    "  stat_summary(fun=mean, geom=\"point\", shape=4, size=2) +\n",
    "  theme(axis.text.x=element_text(angle=-45,hjust=0,vjust=0))"
   ]
  },
  {
   "cell_type": "code",
   "execution_count": 158,
   "id": "c7a3f0d5",
   "metadata": {},
   "outputs": [
    {
     "data": {
      "image/png": "[encoded data removed]",
      "text/plain": [
       "plot without title"
      ]
     },
     "metadata": {},
     "output_type": "display_data"
    }
   ],
   "source": [
    "df3$category <- as.factor(df3$category)\n",
    "\n",
    "ggplot(data=df3, aes(x=category, y=theater_occupancy_rate, fill= category)) +\n",
    "  geom_boxplot() + \n",
    "  labs(title = \"Theatre occupancy rate Category Boxplot\", x = \"Play Category\", y=\"Theater Occupancy Rate (%)\") +\n",
    "  stat_summary(fun=mean, geom=\"point\", shape=4, size=2) +\n",
    "  theme(axis.text.x=element_text(angle=-45,hjust=0,vjust=0))"
   ]
  },
  {
   "cell_type": "code",
   "execution_count": 159,
   "id": "8c15a803",
   "metadata": {},
   "outputs": [
    {
     "data": {
      "image/png": "[encoded data removed]",
      "text/plain": [
       "plot without title"
      ]
     },
     "metadata": {},
     "output_type": "display_data"
    }
   ],
   "source": [
    "qplot(fill = category, \n",
    "      x = theater_occupancy_rate, \n",
    "      data = df3, \n",
    "      geom = \"density\",\n",
    "      alpha = I(0.5),\n",
    "      adjust = 2\n",
    "      )+ labs( x = \"Theater Occupancy Rate\")"
   ]
  },
  {
   "cell_type": "code",
   "execution_count": 160,
   "id": "2f027fb2",
   "metadata": {},
   "outputs": [
    {
     "data": {
      "image/png": "[encoded data removed]",
      "text/plain": [
       "plot without title"
      ]
     },
     "metadata": {},
     "output_type": "display_data"
    }
   ],
   "source": [
    "qplot(fill = type, \n",
    "      x = theater_occupancy_rate, \n",
    "      data = df3, \n",
    "      geom = \"density\",\n",
    "      alpha = I(0.5),\n",
    "      adjust = 2\n",
    "      )+ labs( x = \"Theater Occupancy Rate\")"
   ]
  },
  {
   "cell_type": "markdown",
   "id": "56d8efb4",
   "metadata": {},
   "source": [
    "### Confidence Interval"
   ]
  },
  {
   "cell_type": "markdown",
   "id": "13df0958",
   "metadata": {},
   "source": [
    "#### 1-) Confidence interval for theater occupancy rate evaluating the differences based on play type."
   ]
  },
  {
   "cell_type": "code",
   "execution_count": 161,
   "id": "413b9cd3",
   "metadata": {},
   "outputs": [],
   "source": [
    "domestic<- subset(df3, type==\"YERLİ\")\n",
    "foreign<- subset(df3, type==\"YABANCI\")"
   ]
  },
  {
   "cell_type": "code",
   "execution_count": 162,
   "id": "2a2d0071",
   "metadata": {},
   "outputs": [
    {
     "data": {
      "text/html": [
       "<ol class=list-inline>\n",
       "\t<li>84.0168067155027</li>\n",
       "\t<li>89.8527585018886</li>\n",
       "</ol>\n"
      ],
      "text/latex": [
       "\\begin{enumerate*}\n",
       "\\item 84.0168067155027\n",
       "\\item 89.8527585018886\n",
       "\\end{enumerate*}\n"
      ],
      "text/markdown": [
       "1. 84.0168067155027\n",
       "2. 89.8527585018886\n",
       "\n",
       "\n"
      ],
      "text/plain": [
       "[1] 84.01681 89.85276\n",
       "attr(,\"conf.level\")\n",
       "[1] 0.95"
      ]
     },
     "metadata": {},
     "output_type": "display_data"
    }
   ],
   "source": [
    "x <- t.test(domestic$theater_occupancy_rate)$conf.int\n",
    "x"
   ]
  },
  {
   "cell_type": "markdown",
   "id": "9c635875",
   "metadata": {},
   "source": [
    "The true average of theater occupancy rate for domestic plays is between 84.01 and 89.85 with 95% confidence."
   ]
  },
  {
   "cell_type": "code",
   "execution_count": 163,
   "id": "4c44345f",
   "metadata": {},
   "outputs": [
    {
     "data": {
      "text/html": [
       "<ol class=list-inline>\n",
       "\t<li>80.4616519798898</li>\n",
       "\t<li>92.5859670677292</li>\n",
       "</ol>\n"
      ],
      "text/latex": [
       "\\begin{enumerate*}\n",
       "\\item 80.4616519798898\n",
       "\\item 92.5859670677292\n",
       "\\end{enumerate*}\n"
      ],
      "text/markdown": [
       "1. 80.4616519798898\n",
       "2. 92.5859670677292\n",
       "\n",
       "\n"
      ],
      "text/plain": [
       "[1] 80.46165 92.58597\n",
       "attr(,\"conf.level\")\n",
       "[1] 0.95"
      ]
     },
     "metadata": {},
     "output_type": "display_data"
    }
   ],
   "source": [
    "y <- t.test(foreign$theater_occupancy_rate)$conf.int\n",
    "y"
   ]
  },
  {
   "cell_type": "markdown",
   "id": "33ad0e3b",
   "metadata": {},
   "source": [
    "The true average of theater occupancy rate for foreign plays is between 80.46 and 92.5 with 95% confidence."
   ]
  },
  {
   "cell_type": "code",
   "execution_count": 164,
   "id": "44e2fcd9",
   "metadata": {},
   "outputs": [
    {
     "data": {
      "image/png": "[encoded data removed]",
      "text/plain": [
       "plot without title"
      ]
     },
     "metadata": {},
     "output_type": "display_data"
    }
   ],
   "source": [
    "occupancy.rate <- data.frame(Type=\"YERLİ\",\n",
    "                                mean=mean(domestic$theater_occupancy_rate), \n",
    "                                lower=x[1], \n",
    "                                upper=x[2])\n",
    "\n",
    "occupancy.rate <- rbind(occupancy.rate , data.frame(Type=\"YABANCI\",\n",
    "                                mean=mean(domestic$theater_occupancy_rate), \n",
    "                                lower=y[1], \n",
    "                                upper=y[2]))\n",
    "\n",
    "ggplot(occupancy.rate, aes(x=Type, y=mean, fill=Type)) +\n",
    "  geom_bar(position=\"dodge\", stat=\"identity\", width = 0.3) +\n",
    "  geom_errorbar(aes(ymin=lower, ymax=upper),\n",
    "                width=.1, \n",
    "                position=position_dodge(0.1))"
   ]
  },
  {
   "cell_type": "markdown",
   "id": "2955e4e1",
   "metadata": {},
   "source": [
    "#### 2-) Confidence interval for theater occupancy rate evaluating the differences based on play category."
   ]
  },
  {
   "cell_type": "code",
   "execution_count": 165,
   "id": "6add6aba",
   "metadata": {},
   "outputs": [],
   "source": [
    "kid<- subset(df3, category==\"ÇOCUK\")\n",
    "adult<- subset(df3, category==\"YETİŞKİN\")\n",
    "musical<- subset(df3, category==\"MÜZİKAL\")"
   ]
  },
  {
   "cell_type": "code",
   "execution_count": 166,
   "id": "962a61cc",
   "metadata": {},
   "outputs": [
    {
     "data": {
      "text/html": [
       "<ol class=list-inline>\n",
       "\t<li>82.332607558386</li>\n",
       "\t<li>93.1673924416141</li>\n",
       "</ol>\n"
      ],
      "text/latex": [
       "\\begin{enumerate*}\n",
       "\\item 82.332607558386\n",
       "\\item 93.1673924416141\n",
       "\\end{enumerate*}\n"
      ],
      "text/markdown": [
       "1. 82.332607558386\n",
       "2. 93.1673924416141\n",
       "\n",
       "\n"
      ],
      "text/plain": [
       "[1] 82.33261 93.16739\n",
       "attr(,\"conf.level\")\n",
       "[1] 0.95"
      ]
     },
     "metadata": {},
     "output_type": "display_data"
    }
   ],
   "source": [
    "x <- t.test(kid$theater_occupancy_rate)$conf.int\n",
    "x"
   ]
  },
  {
   "cell_type": "markdown",
   "id": "1762dd43",
   "metadata": {},
   "source": [
    "The true average of theater occupancy rate for kid plays is between 82.33 and 93.16 with 95% confidence."
   ]
  },
  {
   "cell_type": "code",
   "execution_count": 167,
   "id": "79f686d6",
   "metadata": {},
   "outputs": [
    {
     "data": {
      "text/html": [
       "<ol class=list-inline>\n",
       "\t<li>82.8593004130891</li>\n",
       "\t<li>90.1406995869109</li>\n",
       "</ol>\n"
      ],
      "text/latex": [
       "\\begin{enumerate*}\n",
       "\\item 82.8593004130891\n",
       "\\item 90.1406995869109\n",
       "\\end{enumerate*}\n"
      ],
      "text/markdown": [
       "1. 82.8593004130891\n",
       "2. 90.1406995869109\n",
       "\n",
       "\n"
      ],
      "text/plain": [
       "[1] 82.8593 90.1407\n",
       "attr(,\"conf.level\")\n",
       "[1] 0.95"
      ]
     },
     "metadata": {},
     "output_type": "display_data"
    }
   ],
   "source": [
    "y <- t.test(adult$theater_occupancy_rate)$conf.int\n",
    "y"
   ]
  },
  {
   "cell_type": "markdown",
   "id": "76bc74af",
   "metadata": {},
   "source": [
    "The true average of theater occupancy rate for adult plays is between 82.85 and 90.14 with 95% confidence."
   ]
  },
  {
   "cell_type": "code",
   "execution_count": 168,
   "id": "8a38ba17",
   "metadata": {},
   "outputs": [
    {
     "data": {
      "text/html": [
       "<ol class=list-inline>\n",
       "\t<li>79.6893029144125</li>\n",
       "\t<li>92.0249827998733</li>\n",
       "</ol>\n"
      ],
      "text/latex": [
       "\\begin{enumerate*}\n",
       "\\item 79.6893029144125\n",
       "\\item 92.0249827998733\n",
       "\\end{enumerate*}\n"
      ],
      "text/markdown": [
       "1. 79.6893029144125\n",
       "2. 92.0249827998733\n",
       "\n",
       "\n"
      ],
      "text/plain": [
       "[1] 79.68930 92.02498\n",
       "attr(,\"conf.level\")\n",
       "[1] 0.95"
      ]
     },
     "metadata": {},
     "output_type": "display_data"
    }
   ],
   "source": [
    "z <- t.test(musical$theater_occupancy_rate)$conf.int\n",
    "z"
   ]
  },
  {
   "cell_type": "markdown",
   "id": "8eaea773",
   "metadata": {},
   "source": [
    "The true average of theater occupancy rate for musical plays is between 79.68 and 92.02 with 95% confidence."
   ]
  },
  {
   "cell_type": "code",
   "execution_count": 169,
   "id": "951017e0",
   "metadata": {},
   "outputs": [
    {
     "data": {
      "image/png": "[encoded data removed]",
      "text/plain": [
       "plot without title"
      ]
     },
     "metadata": {},
     "output_type": "display_data"
    }
   ],
   "source": [
    "occupancy.rate <- data.frame(Category=\"ÇOCUK\",\n",
    "                                mean=mean(domestic$theater_occupancy_rate), \n",
    "                                lower=x[1], \n",
    "                                upper=x[2])\n",
    "\n",
    "occupancy.rate <- rbind(occupancy.rate , data.frame(Category=\"YETİŞKİN\",\n",
    "                                mean=mean(domestic$theater_occupancy_rate), \n",
    "                                lower=y[1], \n",
    "                                upper=y[2]))\n",
    "\n",
    "occupancy.rate <- rbind(occupancy.rate , data.frame(Category=\"MÜZİKAL\",\n",
    "                                mean=mean(domestic$theater_occupancy_rate), \n",
    "                                lower=y[1], \n",
    "                                upper=y[2]))\n",
    "\n",
    "ggplot(occupancy.rate, aes(x=Category, y=mean, fill=Category)) +\n",
    "  geom_bar(position=\"dodge\", stat=\"identity\", width = 0.3) +\n",
    "  geom_errorbar(aes(ymin=lower, ymax=upper),\n",
    "                width=.1, \n",
    "                position=position_dodge(0.1))"
   ]
  },
  {
   "cell_type": "markdown",
   "id": "97b4c6f9",
   "metadata": {},
   "source": [
    "## Hypothesis Test"
   ]
  },
  {
   "cell_type": "markdown",
   "id": "723f3657",
   "metadata": {},
   "source": [
    "### One Sample Test\n",
    "#### 1-) One sample hypothesis for theater occupancy rate of foreign plays smaller than 90% and testing it with 95% confidence interval.\n",
    "H0: mu = 90\n",
    "\n",
    "H1: mu < 90\n",
    "\n",
    "In order to assess normality of data, we can use qqplot and shapiro test."
   ]
  },
  {
   "cell_type": "code",
   "execution_count": 170,
   "id": "ad627133",
   "metadata": {},
   "outputs": [
    {
     "data": {
      "text/plain": [
       "\n",
       "\tShapiro-Wilk normality test\n",
       "\n",
       "data:  foreign$theater_occupancy_rate\n",
       "W = 0.93726, p-value = 0.1923\n"
      ]
     },
     "metadata": {},
     "output_type": "display_data"
    }
   ],
   "source": [
    "shapiro.test(foreign$theater_occupancy_rate)"
   ]
  },
  {
   "cell_type": "markdown",
   "id": "760f1adf",
   "metadata": {},
   "source": [
    "As the p-value > 0.05, the null hypothesis is not rejected, so data is normally distributed.\n",
    "\n",
    "Let’s visualize it using Q-Q Plot."
   ]
  },
  {
   "cell_type": "code",
   "execution_count": 171,
   "id": "bd68d82f",
   "metadata": {},
   "outputs": [
    {
     "data": {
      "image/png": "[encoded data removed]",
      "text/plain": [
       "Plot with title \"Normal Q-Q Plot\""
      ]
     },
     "metadata": {},
     "output_type": "display_data"
    }
   ],
   "source": [
    "qqnorm(foreign$theater_occupancy_rate, ylab = \"Theater Ocuupancy Rate\")\n",
    "qqline(foreign$theater_occupancy_rate)"
   ]
  },
  {
   "cell_type": "code",
   "execution_count": 172,
   "id": "ab9905d0",
   "metadata": {},
   "outputs": [
    {
     "data": {
      "text/plain": [
       "\n",
       "\tOne Sample t-test\n",
       "\n",
       "data:  foreign$theater_occupancy_rate\n",
       "t = -1.1961, df = 20, p-value = 0.1228\n",
       "alternative hypothesis: true mean is less than 90\n",
       "95 percent confidence interval:\n",
       "     -Inf 91.53613\n",
       "sample estimates:\n",
       "mean of x \n",
       " 86.52381 \n"
      ]
     },
     "metadata": {},
     "output_type": "display_data"
    }
   ],
   "source": [
    "t.test(foreign$theater_occupancy_rate, \n",
    "       alternative = \"less\", \n",
    "       mu=90, \n",
    "       conf.level = 0.95)"
   ]
  },
  {
   "cell_type": "markdown",
   "id": "bbfcadc1",
   "metadata": {},
   "source": [
    "To conclude, as p-value = 0.1 is greater than 0.05, the null hypothesis is not rejected. The confidence interval is between -infinity and 91.53 with 95% confident."
   ]
  },
  {
   "cell_type": "markdown",
   "id": "4b431765",
   "metadata": {},
   "source": [
    "#### 2-) One sample hypothesis for theater occupancy rate of kid plays is equal to 80% and testing it with 95% confidence interval.\n",
    "H0:μ = 80\n",
    "\n",
    "H1:μ != 80\n",
    "\n",
    "In order to assess normality of data, we can use qqplot and Anderson-Darling test."
   ]
  },
  {
   "cell_type": "code",
   "execution_count": 173,
   "id": "9a0822a8",
   "metadata": {},
   "outputs": [
    {
     "data": {
      "text/plain": [
       "\n",
       "\tShapiro-Wilk normality test\n",
       "\n",
       "data:  kid$theater_occupancy_rate\n",
       "W = 0.88332, p-value = 0.02031\n"
      ]
     },
     "metadata": {},
     "output_type": "display_data"
    }
   ],
   "source": [
    "shapiro.test(kid$theater_occupancy_rate)"
   ]
  },
  {
   "cell_type": "markdown",
   "id": "b600bb47",
   "metadata": {},
   "source": [
    "As the p-value < 0.05, the null hypothesis is rejected, so data is not normally distributed"
   ]
  },
  {
   "cell_type": "code",
   "execution_count": 174,
   "id": "30262307",
   "metadata": {},
   "outputs": [
    {
     "data": {
      "image/png": "[encoded data removed]",
      "text/plain": [
       "Plot with title \"Normal Q-Q Plot\""
      ]
     },
     "metadata": {},
     "output_type": "display_data"
    }
   ],
   "source": [
    "qqnorm(kid$theater_occupancy_rate, ylab = \"Theater Ocuupancy Rate\")\n",
    "qqline(kid$theater_occupancy_rate)"
   ]
  },
  {
   "cell_type": "code",
   "execution_count": 175,
   "id": "8b051c69",
   "metadata": {},
   "outputs": [
    {
     "data": {
      "text/plain": [
       "\n",
       "\tOne Sample t-test\n",
       "\n",
       "data:  kid$theater_occupancy_rate\n",
       "t = 2.9942, df = 19, p-value = 0.007456\n",
       "alternative hypothesis: true mean is not equal to 80\n",
       "95 percent confidence interval:\n",
       " 82.33261 93.16739\n",
       "sample estimates:\n",
       "mean of x \n",
       "    87.75 \n"
      ]
     },
     "metadata": {},
     "output_type": "display_data"
    }
   ],
   "source": [
    "t.test(kid$theater_occupancy_rate, \n",
    "       alternative = \"two.sided\", \n",
    "       mu=80, \n",
    "       conf.level = 0.95)"
   ]
  },
  {
   "cell_type": "markdown",
   "id": "77de993a",
   "metadata": {},
   "source": [
    "p-value = 0.007 is smaller than 0.05, the hypothesis is rejected. The confidence interval is between 82.33 and 93.16 with 95% confident."
   ]
  },
  {
   "cell_type": "markdown",
   "id": "f2733648",
   "metadata": {},
   "source": [
    "### Two Sample Test"
   ]
  },
  {
   "cell_type": "markdown",
   "id": "4d80def7",
   "metadata": {},
   "source": [
    "#### Are there significant difference between mean of domestic and foreign plays occupancy rate?\n",
    "Let’s check if the populations have the same variance."
   ]
  },
  {
   "cell_type": "code",
   "execution_count": 176,
   "id": "0aa2aed2",
   "metadata": {},
   "outputs": [
    {
     "data": {
      "text/plain": [
       "\n",
       "\tF test to compare two variances\n",
       "\n",
       "data:  x and y\n",
       "F = 0.54437, num df = 45, denom df = 20, p-value = 0.09137\n",
       "alternative hypothesis: true ratio of variances is not equal to 1\n",
       "95 percent confidence interval:\n",
       " 0.2402018 1.1030050\n",
       "sample estimates:\n",
       "ratio of variances \n",
       "          0.544374 \n"
      ]
     },
     "metadata": {},
     "output_type": "display_data"
    }
   ],
   "source": [
    "x <- subset(df3, type == \"YERLİ\")$theater_occupancy_rate\n",
    "y <- subset(df3,  type == \"YABANCI\")$theater_occupancy_rate\n",
    "var.test(x, y)"
   ]
  },
  {
   "cell_type": "code",
   "execution_count": 177,
   "id": "90e2c984",
   "metadata": {},
   "outputs": [
    {
     "data": {
      "text/html": [
       "<table>\n",
       "<thead><tr><th scope=col>type</th><th scope=col>num.obs</th><th scope=col>mean.df</th><th scope=col>sd.df</th><th scope=col>se.df</th></tr></thead>\n",
       "<tbody>\n",
       "\t<tr><td>YABANCI  </td><td>21       </td><td>86.52381 </td><td>13.317729</td><td>2.906167 </td></tr>\n",
       "\t<tr><td>YERLİ    </td><td>46       </td><td>86.93478 </td><td> 9.826047</td><td>1.448772 </td></tr>\n",
       "</tbody>\n",
       "</table>\n"
      ],
      "text/latex": [
       "\\begin{tabular}{r|lllll}\n",
       " type & num.obs & mean.df & sd.df & se.df\\\\\n",
       "\\hline\n",
       "\t YABANCI   & 21        & 86.52381  & 13.317729 & 2.906167 \\\\\n",
       "\t YERLİ     & 46        & 86.93478  &  9.826047 & 1.448772 \\\\\n",
       "\\end{tabular}\n"
      ],
      "text/markdown": [
       "\n",
       "| type | num.obs | mean.df | sd.df | se.df |\n",
       "|---|---|---|---|---|\n",
       "| YABANCI   | 21        | 86.52381  | 13.317729 | 2.906167  |\n",
       "| YERLİ     | 46        | 86.93478  |  9.826047 | 1.448772  |\n",
       "\n"
      ],
      "text/plain": [
       "  type    num.obs mean.df  sd.df     se.df   \n",
       "1 YABANCI 21      86.52381 13.317729 2.906167\n",
       "2 YERLİ   46      86.93478  9.826047 1.448772"
      ]
     },
     "metadata": {},
     "output_type": "display_data"
    }
   ],
   "source": [
    "df3 %>%\n",
    "  group_by(type) %>%\n",
    "  summarize(num.obs = n(),\n",
    "            mean.df = mean(theater_occupancy_rate),\n",
    "            sd.df = sd(theater_occupancy_rate),\n",
    "            se.df = sd(theater_occupancy_rate) / sqrt(num.obs))"
   ]
  },
  {
   "cell_type": "markdown",
   "id": "bce4313b",
   "metadata": {},
   "source": [
    "In order to assess normality of data, we can use qqplot and shapiro test."
   ]
  },
  {
   "cell_type": "code",
   "execution_count": 178,
   "id": "8e5cbf46",
   "metadata": {},
   "outputs": [
    {
     "data": {
      "text/plain": [
       "\n",
       "\tShapiro-Wilk normality test\n",
       "\n",
       "data:  domestic$theater_occupancy_rate\n",
       "W = 0.93227, p-value = 0.01017\n"
      ]
     },
     "metadata": {},
     "output_type": "display_data"
    }
   ],
   "source": [
    "shapiro.test(domestic$theater_occupancy_rate)"
   ]
  },
  {
   "cell_type": "markdown",
   "id": "12629f48",
   "metadata": {},
   "source": [
    "As the p-value < 0.05, the null hypothesis is rejected, so data is not normally distributed"
   ]
  },
  {
   "cell_type": "code",
   "execution_count": 179,
   "id": "a0b1a546",
   "metadata": {},
   "outputs": [
    {
     "data": {
      "text/plain": [
       "\n",
       "\tShapiro-Wilk normality test\n",
       "\n",
       "data:  foreign$theater_occupancy_rate\n",
       "W = 0.93726, p-value = 0.1923\n"
      ]
     },
     "metadata": {},
     "output_type": "display_data"
    }
   ],
   "source": [
    "shapiro.test(foreign$theater_occupancy_rate)"
   ]
  },
  {
   "cell_type": "markdown",
   "id": "c1e2551d",
   "metadata": {},
   "source": [
    "As the p-value > 0.05, the null hypothesis is not rejected, so data is normally distributed"
   ]
  },
  {
   "cell_type": "code",
   "execution_count": 180,
   "id": "2da69738",
   "metadata": {},
   "outputs": [
    {
     "data": {
      "text/plain": [
       "\n",
       "\tTwo Sample t-test\n",
       "\n",
       "data:  x and y\n",
       "t = 0.14162, df = 65, p-value = 0.8878\n",
       "alternative hypothesis: true difference in means is not equal to 0\n",
       "95 percent confidence interval:\n",
       " -5.384580  6.206527\n",
       "sample estimates:\n",
       "mean of x mean of y \n",
       " 86.93478  86.52381 \n"
      ]
     },
     "metadata": {},
     "output_type": "display_data"
    }
   ],
   "source": [
    "t.test(x=x, y=y, alternative = \"two.sided\", var.equal = TRUE,\n",
    "       conf.level = 0.95)"
   ]
  },
  {
   "cell_type": "markdown",
   "id": "32908d19",
   "metadata": {},
   "source": [
    "p-value > 0.05, the null hypothesis is not rejected,We can conclude that there is not statistically significant difference between Domestic and Foreign plays theater ocuupancy rate."
   ]
  },
  {
   "cell_type": "markdown",
   "id": "51e89892",
   "metadata": {},
   "source": [
    "### Anova"
   ]
  },
  {
   "cell_type": "markdown",
   "id": "132aa4d6",
   "metadata": {},
   "source": [
    "#### 1-) Are there significant difference between mean of theater occupancy rate for different play type?"
   ]
  },
  {
   "cell_type": "code",
   "execution_count": 181,
   "id": "e3df93ca",
   "metadata": {},
   "outputs": [
    {
     "data": {
      "text/html": [
       "<table>\n",
       "<thead><tr><th scope=col>type</th><th scope=col>theater_occupancy_rate</th></tr></thead>\n",
       "<tbody>\n",
       "\t<tr><td>YERLİ</td><td>93   </td></tr>\n",
       "\t<tr><td>YERLİ</td><td>96   </td></tr>\n",
       "\t<tr><td>YERLİ</td><td>88   </td></tr>\n",
       "\t<tr><td>YERLİ</td><td>88   </td></tr>\n",
       "\t<tr><td>YERLİ</td><td>95   </td></tr>\n",
       "\t<tr><td>YERLİ</td><td>91   </td></tr>\n",
       "</tbody>\n",
       "</table>\n"
      ],
      "text/latex": [
       "\\begin{tabular}{r|ll}\n",
       " type & theater\\_occupancy\\_rate\\\\\n",
       "\\hline\n",
       "\t YERLİ & 93   \\\\\n",
       "\t YERLİ & 96   \\\\\n",
       "\t YERLİ & 88   \\\\\n",
       "\t YERLİ & 88   \\\\\n",
       "\t YERLİ & 95   \\\\\n",
       "\t YERLİ & 91   \\\\\n",
       "\\end{tabular}\n"
      ],
      "text/markdown": [
       "\n",
       "| type | theater_occupancy_rate |\n",
       "|---|---|\n",
       "| YERLİ | 93    |\n",
       "| YERLİ | 96    |\n",
       "| YERLİ | 88    |\n",
       "| YERLİ | 88    |\n",
       "| YERLİ | 95    |\n",
       "| YERLİ | 91    |\n",
       "\n"
      ],
      "text/plain": [
       "  type  theater_occupancy_rate\n",
       "1 YERLİ 93                    \n",
       "2 YERLİ 96                    \n",
       "3 YERLİ 88                    \n",
       "4 YERLİ 88                    \n",
       "5 YERLİ 95                    \n",
       "6 YERLİ 91                    "
      ]
     },
     "metadata": {},
     "output_type": "display_data"
    }
   ],
   "source": [
    "data3 <- df3[, c(1, 6)]\n",
    "names(data2) <- c( \"type\",\"theater_occupancy_rate\")\n",
    "head(data3)"
   ]
  },
  {
   "cell_type": "code",
   "execution_count": 182,
   "id": "83795873",
   "metadata": {},
   "outputs": [
    {
     "data": {
      "text/html": [
       "<ol class=list-inline>\n",
       "\t<li>'YABANCI'</li>\n",
       "\t<li>'YERLİ'</li>\n",
       "</ol>\n"
      ],
      "text/latex": [
       "\\begin{enumerate*}\n",
       "\\item 'YABANCI'\n",
       "\\item 'YERLİ'\n",
       "\\end{enumerate*}\n"
      ],
      "text/markdown": [
       "1. 'YABANCI'\n",
       "2. 'YERLİ'\n",
       "\n",
       "\n"
      ],
      "text/plain": [
       "[1] \"YABANCI\" \"YERLİ\"  "
      ]
     },
     "metadata": {},
     "output_type": "display_data"
    }
   ],
   "source": [
    "levels(data3$type)"
   ]
  },
  {
   "cell_type": "code",
   "execution_count": 183,
   "id": "8878c20f",
   "metadata": {},
   "outputs": [
    {
     "data": {
      "text/html": [
       "<table>\n",
       "<thead><tr><th scope=col>type</th><th scope=col>count</th><th scope=col>mean</th><th scope=col>sd</th></tr></thead>\n",
       "<tbody>\n",
       "\t<tr><td>YABANCI  </td><td>21       </td><td>86.52381 </td><td>13.317729</td></tr>\n",
       "\t<tr><td>YERLİ    </td><td>46       </td><td>86.93478 </td><td> 9.826047</td></tr>\n",
       "</tbody>\n",
       "</table>\n"
      ],
      "text/latex": [
       "\\begin{tabular}{r|llll}\n",
       " type & count & mean & sd\\\\\n",
       "\\hline\n",
       "\t YABANCI   & 21        & 86.52381  & 13.317729\\\\\n",
       "\t YERLİ     & 46        & 86.93478  &  9.826047\\\\\n",
       "\\end{tabular}\n"
      ],
      "text/markdown": [
       "\n",
       "| type | count | mean | sd |\n",
       "|---|---|---|---|\n",
       "| YABANCI   | 21        | 86.52381  | 13.317729 |\n",
       "| YERLİ     | 46        | 86.93478  |  9.826047 |\n",
       "\n"
      ],
      "text/plain": [
       "  type    count mean     sd       \n",
       "1 YABANCI 21    86.52381 13.317729\n",
       "2 YERLİ   46    86.93478  9.826047"
      ]
     },
     "metadata": {},
     "output_type": "display_data"
    }
   ],
   "source": [
    "group_by(data3, type) %>%\n",
    "  summarise(\n",
    "    count = n(),\n",
    "    mean = mean(theater_occupancy_rate, na.rm = TRUE),\n",
    "    sd = sd(theater_occupancy_rate, na.rm = TRUE)\n",
    "  )"
   ]
  },
  {
   "cell_type": "markdown",
   "id": "e6a45ac3",
   "metadata": {},
   "source": [
    "#### Hypothesis:\n",
    "H0: μ1=μ2\n",
    "\n",
    "H1:μ1!=μ2\n",
    "\n",
    "#### Visulation"
   ]
  },
  {
   "cell_type": "code",
   "execution_count": 184,
   "id": "bab7f41d",
   "metadata": {},
   "outputs": [
    {
     "data": {
      "image/png": "[encoded data removed]",
      "text/plain": [
       "plot without title"
      ]
     },
     "metadata": {},
     "output_type": "display_data"
    }
   ],
   "source": [
    "ggplot(data=data3, aes(x=type, y=theater_occupancy_rate, fill= type)) +\n",
    "  geom_boxplot() + \n",
    "  labs(title = \"Theater occupancy rate based on play categories Boxplot\", x = \"Types\", y=\"Theater occupancy rate\") +\n",
    "  stat_summary(fun=mean, geom=\"point\", shape=4, size=2) +\n",
    "  theme(axis.text.x=element_text(angle=-45,hjust=0,vjust=0))"
   ]
  },
  {
   "cell_type": "markdown",
   "id": "4dafe4bb",
   "metadata": {},
   "source": [
    "#### Variance homogeneity"
   ]
  },
  {
   "cell_type": "code",
   "execution_count": 185,
   "id": "ab7a04fe",
   "metadata": {},
   "outputs": [
    {
     "data": {
      "text/plain": [
       "\n",
       "\tBartlett test of homogeneity of variances\n",
       "\n",
       "data:  theater_occupancy_rate by type\n",
       "Bartlett's K-squared = 2.6815, df = 1, p-value = 0.1015\n"
      ]
     },
     "metadata": {},
     "output_type": "display_data"
    }
   ],
   "source": [
    "bartlett.test(theater_occupancy_rate~type, data=data3)"
   ]
  },
  {
   "cell_type": "markdown",
   "id": "2f006f7b",
   "metadata": {},
   "source": [
    "Based on output of barlett-test, p-value > 0.05 So, the null hypothesis is not rejected."
   ]
  },
  {
   "cell_type": "markdown",
   "id": "92ac89a9",
   "metadata": {},
   "source": [
    "#### Analysis of variance"
   ]
  },
  {
   "cell_type": "code",
   "execution_count": 186,
   "id": "78124a41",
   "metadata": {},
   "outputs": [
    {
     "data": {
      "text/plain": [
       "            Df Sum Sq Mean Sq F value Pr(>F)\n",
       "type         1      2    2.44    0.02  0.888\n",
       "Residuals   65   7892  121.42               "
      ]
     },
     "metadata": {},
     "output_type": "display_data"
    }
   ],
   "source": [
    "model<-aov(theater_occupancy_rate~type, data=data3)\n",
    "summary(model)"
   ]
  },
  {
   "cell_type": "markdown",
   "id": "56ae871b",
   "metadata": {},
   "source": [
    "The p-value > 0.05, we can conclude that there is not significant differences between the types plays theater occupancy rate."
   ]
  },
  {
   "cell_type": "markdown",
   "id": "2ed2dd17",
   "metadata": {},
   "source": [
    "##### 2-) Are there significant difference between mean of theater occupancy rate for different play category?"
   ]
  },
  {
   "cell_type": "code",
   "execution_count": 187,
   "id": "f97db999",
   "metadata": {},
   "outputs": [
    {
     "data": {
      "text/html": [
       "<table>\n",
       "<thead><tr><th scope=col>category</th><th scope=col>theater_occupancy_rate</th></tr></thead>\n",
       "<tbody>\n",
       "\t<tr><td>YETİŞKİN</td><td>93      </td></tr>\n",
       "\t<tr><td>YETİŞKİN</td><td>96      </td></tr>\n",
       "\t<tr><td>YETİŞKİN</td><td>88      </td></tr>\n",
       "\t<tr><td>YETİŞKİN</td><td>88      </td></tr>\n",
       "\t<tr><td>YETİŞKİN</td><td>95      </td></tr>\n",
       "\t<tr><td>YETİŞKİN</td><td>91      </td></tr>\n",
       "</tbody>\n",
       "</table>\n"
      ],
      "text/latex": [
       "\\begin{tabular}{r|ll}\n",
       " category & theater\\_occupancy\\_rate\\\\\n",
       "\\hline\n",
       "\t YETİŞKİN & 93      \\\\\n",
       "\t YETİŞKİN & 96      \\\\\n",
       "\t YETİŞKİN & 88      \\\\\n",
       "\t YETİŞKİN & 88      \\\\\n",
       "\t YETİŞKİN & 95      \\\\\n",
       "\t YETİŞKİN & 91      \\\\\n",
       "\\end{tabular}\n"
      ],
      "text/markdown": [
       "\n",
       "| category | theater_occupancy_rate |\n",
       "|---|---|\n",
       "| YETİŞKİN | 93       |\n",
       "| YETİŞKİN | 96       |\n",
       "| YETİŞKİN | 88       |\n",
       "| YETİŞKİN | 88       |\n",
       "| YETİŞKİN | 95       |\n",
       "| YETİŞKİN | 91       |\n",
       "\n"
      ],
      "text/plain": [
       "  category theater_occupancy_rate\n",
       "1 YETİŞKİN 93                    \n",
       "2 YETİŞKİN 96                    \n",
       "3 YETİŞKİN 88                    \n",
       "4 YETİŞKİN 88                    \n",
       "5 YETİŞKİN 95                    \n",
       "6 YETİŞKİN 91                    "
      ]
     },
     "metadata": {},
     "output_type": "display_data"
    }
   ],
   "source": [
    "data3 <- df3[, c(2, 6)]\n",
    "names(data2) <- c( \"category\",\"theater_occupancy_rate\")\n",
    "head(data3)"
   ]
  },
  {
   "cell_type": "code",
   "execution_count": 188,
   "id": "f6bbb932",
   "metadata": {},
   "outputs": [
    {
     "data": {
      "text/html": [
       "<ol class=list-inline>\n",
       "\t<li>'ÇOCUK'</li>\n",
       "\t<li>'MÜZİKAL'</li>\n",
       "\t<li>'YETİŞKİN'</li>\n",
       "</ol>\n"
      ],
      "text/latex": [
       "\\begin{enumerate*}\n",
       "\\item 'ÇOCUK'\n",
       "\\item 'MÜZİKAL'\n",
       "\\item 'YETİŞKİN'\n",
       "\\end{enumerate*}\n"
      ],
      "text/markdown": [
       "1. 'ÇOCUK'\n",
       "2. 'MÜZİKAL'\n",
       "3. 'YETİŞKİN'\n",
       "\n",
       "\n"
      ],
      "text/plain": [
       "[1] \"ÇOCUK\"    \"MÜZİKAL\"  \"YETİŞKİN\""
      ]
     },
     "metadata": {},
     "output_type": "display_data"
    }
   ],
   "source": [
    "levels(data3$category)"
   ]
  },
  {
   "cell_type": "code",
   "execution_count": 189,
   "id": "6df2cce9",
   "metadata": {},
   "outputs": [
    {
     "data": {
      "text/html": [
       "<table>\n",
       "<thead><tr><th scope=col>category</th><th scope=col>count</th><th scope=col>mean</th><th scope=col>sd</th></tr></thead>\n",
       "<tbody>\n",
       "\t<tr><td>ÇOCUK    </td><td>20       </td><td>87.75000 </td><td>11.575269</td></tr>\n",
       "\t<tr><td>MÜZİKAL  </td><td> 7       </td><td>85.85714 </td><td> 6.669047</td></tr>\n",
       "\t<tr><td>YETİŞKİN </td><td>40       </td><td>86.50000 </td><td>11.383749</td></tr>\n",
       "</tbody>\n",
       "</table>\n"
      ],
      "text/latex": [
       "\\begin{tabular}{r|llll}\n",
       " category & count & mean & sd\\\\\n",
       "\\hline\n",
       "\t ÇOCUK     & 20        & 87.75000  & 11.575269\\\\\n",
       "\t MÜZİKAL   &  7        & 85.85714  &  6.669047\\\\\n",
       "\t YETİŞKİN  & 40        & 86.50000  & 11.383749\\\\\n",
       "\\end{tabular}\n"
      ],
      "text/markdown": [
       "\n",
       "| category | count | mean | sd |\n",
       "|---|---|---|---|\n",
       "| ÇOCUK     | 20        | 87.75000  | 11.575269 |\n",
       "| MÜZİKAL   |  7        | 85.85714  |  6.669047 |\n",
       "| YETİŞKİN  | 40        | 86.50000  | 11.383749 |\n",
       "\n"
      ],
      "text/plain": [
       "  category count mean     sd       \n",
       "1 ÇOCUK    20    87.75000 11.575269\n",
       "2 MÜZİKAL   7    85.85714  6.669047\n",
       "3 YETİŞKİN 40    86.50000 11.383749"
      ]
     },
     "metadata": {},
     "output_type": "display_data"
    }
   ],
   "source": [
    "group_by(data3, category) %>%\n",
    "  summarise(\n",
    "    count = n(),\n",
    "    mean = mean(theater_occupancy_rate, na.rm = TRUE),\n",
    "    sd = sd(theater_occupancy_rate, na.rm = TRUE)\n",
    "  )"
   ]
  },
  {
   "cell_type": "markdown",
   "id": "341edcff",
   "metadata": {},
   "source": [
    "##### Hypothesis:\n",
    "H0: μ1=μ2 =μ3\n",
    "\n",
    "H1:At least one different"
   ]
  },
  {
   "cell_type": "markdown",
   "id": "a2871ca6",
   "metadata": {},
   "source": [
    "##### Visulation"
   ]
  },
  {
   "cell_type": "code",
   "execution_count": 190,
   "id": "cc826bf1",
   "metadata": {},
   "outputs": [
    {
     "data": {
      "image/png": "[encoded data removed]",
      "text/plain": [
       "plot without title"
      ]
     },
     "metadata": {},
     "output_type": "display_data"
    }
   ],
   "source": [
    "ggplot(data=data3, aes(x=category, y=theater_occupancy_rate, fill= category)) +\n",
    "  geom_boxplot() + \n",
    "  labs(title = \"Theater occupancy rate based on play categories Boxplot\", x = \"Types\", y=\"Theater occupancy rate\") +\n",
    "  stat_summary(fun=mean, geom=\"point\", shape=4, size=2) +\n",
    "  theme(axis.text.x=element_text(angle=-45,hjust=0,vjust=0))"
   ]
  },
  {
   "cell_type": "markdown",
   "id": "2f44b9b5",
   "metadata": {},
   "source": [
    "##### Variance homogeneity"
   ]
  },
  {
   "cell_type": "code",
   "execution_count": 191,
   "id": "be344900",
   "metadata": {},
   "outputs": [
    {
     "data": {
      "text/plain": [
       "\n",
       "\tBartlett test of homogeneity of variances\n",
       "\n",
       "data:  theater_occupancy_rate by category\n",
       "Bartlett's K-squared = 2.3103, df = 2, p-value = 0.315\n"
      ]
     },
     "metadata": {},
     "output_type": "display_data"
    }
   ],
   "source": [
    "bartlett.test(theater_occupancy_rate~category, data=data3)"
   ]
  },
  {
   "cell_type": "markdown",
   "id": "c1f2eab9",
   "metadata": {},
   "source": [
    "Based on output of barlett-test, p-value > 0.05 So, the null hypothesis is not rejected."
   ]
  },
  {
   "cell_type": "markdown",
   "id": "761b33db",
   "metadata": {},
   "source": [
    "##### Analysis of variance"
   ]
  },
  {
   "cell_type": "code",
   "execution_count": 192,
   "id": "fb824fef",
   "metadata": {},
   "outputs": [
    {
     "data": {
      "text/plain": [
       "            Df Sum Sq Mean Sq F value Pr(>F)\n",
       "category     2     28   13.94   0.113  0.893\n",
       "Residuals   64   7867  122.92               "
      ]
     },
     "metadata": {},
     "output_type": "display_data"
    }
   ],
   "source": [
    "model<-aov(theater_occupancy_rate~category, data=data3)\n",
    "summary(model)"
   ]
  },
  {
   "cell_type": "markdown",
   "id": "ad05bbbc",
   "metadata": {},
   "source": [
    "The p-value > 0.05, we can conclude that there is not significant differences between the categories plays theater occupancy rate."
   ]
  },
  {
   "cell_type": "markdown",
   "id": "cae1392f",
   "metadata": {},
   "source": [
    "### Result\n",
    "•There is a certain difference in the number of audiences according to the category of the play played in the theater. Musical plays were watched by more audiences than kid and adult plays.\n",
    "\n",
    "•The fact that the plays were domestic or foreign did not affect the number of audiences.\n",
    "\n",
    "•Domestic plays were played more than foreign plays.\n",
    "\n",
    "•The theater occupancy rate in all three play categories is between 85% and 90%, so there is not significant difference.\n",
    "\n",
    "•Foreign kid plays are less with a big difference compared to adult and musical plays. So very few foreign kid plays are played.\n",
    "\n",
    "•While the number of foreign plays increased by one level every year, it decreased in 2020."
   ]
  },
  {
   "cell_type": "markdown",
   "id": "94ce7276",
   "metadata": {},
   "source": [
    "### Discussion"
   ]
  },
  {
   "cell_type": "markdown",
   "id": "b3f721e4",
   "metadata": {},
   "source": [
    "I think that the reason why the occupancy rates of the theaters are almost equal, while the number of audiences in musical plays is higher than that of adult and kid plays, is because musical plays are performed on larger stages, hence in halls.\n",
    "\n",
    "I also think that the number of audiences is higher due to the fact that musical plays are less than other plays.In other words, because it is less frequent, it attracts the audience more.\n",
    "\n",
    "The fact that the number of foreign plays played has been increasing rapidly every year and has decreased in 2020 is undoubtedly the effect of the pandemic. But this drop was less than I expected.\n",
    "\n",
    "In addition, I think that the main reason for the balance between the two play types is that the audiences does not care about whether they are local or foreign when choosing the play they will go to.\n",
    "\n",
    "If this study was done again, the categories of theater plays should be handled in more detail because for example, 'Adult' is very general, It can be more specific like comedy, drama, etc. \n",
    "In addition, we can better understand that the theater is how much interested by the audience by adding the number of seats in the theater."
   ]
  },
  {
   "cell_type": "code",
   "execution_count": null,
   "id": "a6be3646",
   "metadata": {},
   "outputs": [],
   "source": []
  }
 ],
 "metadata": {
  "kernelspec": {
   "display_name": "R",
   "language": "R",
   "name": "ir"
  },
  "language_info": {
   "codemirror_mode": "r",
   "file_extension": ".r",
   "mimetype": "text/x-r-source",
   "name": "R",
   "pygments_lexer": "r",
   "version": "3.6.1"
  }
 },
 "nbformat": 4,
 "nbformat_minor": 5
}
